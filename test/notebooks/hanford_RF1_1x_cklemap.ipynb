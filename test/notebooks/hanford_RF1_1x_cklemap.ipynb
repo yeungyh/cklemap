{
 "cells": [
  {
   "cell_type": "code",
   "execution_count": null,
   "metadata": {},
   "outputs": [],
   "source": [
    "import paths\n",
    "import yaml\n",
    "import os\n",
    "import copy\n",
    "import h5py\n",
    "import GPy\n",
    "import numpy as np\n",
    "import numpy.random as npr\n",
    "import scipy.optimize as spo\n",
    "import scipy.linalg as spl\n",
    "from matplotlib import pyplot as plt, collections as mc, patches as mpatches, cm, ticker, colors\n",
    "from cklemap.sdfs.geom_mrst import GeomMRST\n",
    "from cklemap.sdfs.bc_mrst import BCMRST\n",
    "from cklemap.sdfs.tpfa import TPFA\n",
    "from time import perf_counter\n",
    "import cklemap.ckli.ckliest_h1reg as ckliest\n",
    "from cklemap.sdfs.darcy import DarcyExp\n",
    "from cklemap.sdfs.dasa import DASAExpKL, DASAExpKLAMPS\n",
    "import cklemap.ckli.mapest as mapest\n",
    "import cklemap.ckli.ba as ba\n",
    "import drawSvg as draw"
   ]
  },
  {
   "cell_type": "code",
   "execution_count": null,
   "metadata": {},
   "outputs": [],
   "source": [
    "plt.rc('text', usetex=True)\n",
    "plt.rc('image', cmap='plasma')\n",
    "\n",
    "def plot_patch(patches, values, fig, ax, points, title, cmin=None, cmax=None):\n",
    "    p = mc.PatchCollection(patches, cmap=cm.jet)\n",
    "    p.set_array(values)\n",
    "    p.set_clim([cmin, cmax])\n",
    "    ax.add_collection(p)\n",
    "    if points is not None:\n",
    "        ax.plot(*points, 'ko', markersize=0.5)\n",
    "    ax.set_aspect('equal')\n",
    "    ax.axis('off')\n",
    "    ax.autoscale(tight=True)\n",
    "    #ax.set_title(title)\n",
    "    #fig.colorbar(p, ax=ax)\n",
    "    return p"
   ]
  },
  {
   "cell_type": "code",
   "execution_count": null,
   "metadata": {},
   "outputs": [],
   "source": [
    "amps = False\n",
    "res_fac = 1\n",
    "resolution = '1x'\n",
    "resolution_iYobs = '4x'\n",
    "num_trials = 10\n",
    "seed = 0\n",
    "NYobs = 100\n",
    "NYlearn = NYobs\n",
    "NYrefobs = 50\n",
    "NYxi = 400\n",
    "Nens = 5000\n",
    "gamma_map = 1e-6\n",
    "std_dev_ref = 1.0\n",
    "cor_len_ref = 0.1\n",
    "lsq_method = 'trf'\n",
    "draw_field = False\n",
    "draw_graph_pdf = False\n",
    "data_path = '../data/'\n",
    "results_path = '../results/'\n",
    "figures_path = '../figures/'\n",
    "geom_filename = data_path + f'geom/geom_{resolution}.mat'\n",
    "bc_filename = data_path + f'bc/bc_{resolution}.mat'\n",
    "conduct_filename = data_path + f'yref/conduct_log_RF1_{resolution}.mat'\n",
    "well_cells_filename = data_path + f'well_cells/well_cells_{resolution}.mat'\n",
    "yobs_filename = data_path + f'yobs/yobs_{NYobs}_{resolution_iYobs}.npy'\n",
    "geom_fine_filename = data_path + f'geom/geom_{resolution_iYobs}.mat'\n",
    "ref = \"Yref=RF1\""
   ]
  },
  {
   "cell_type": "code",
   "execution_count": null,
   "metadata": {},
   "outputs": [],
   "source": [
    "Yfac = 7.0 # Rescaling factor for log-conductivity. Must be applied to Yref and the BCs\n",
    "\n",
    "geom = GeomMRST(geom_filename)\n",
    "bc = BCMRST(geom, bc_filename)\n",
    "bc.rescale('N', Yfac)\n",
    "\n",
    "rs = npr.RandomState(seed)\n",
    "Nc = geom.cells.num\n",
    "Ninf = geom.faces.num_interior\n",
    "\n",
    "with h5py.File(conduct_filename, 'r') as f:\n",
    "    Yref = f.get('conduct_log')[:].ravel() - Yfac"
   ]
  },
  {
   "cell_type": "code",
   "execution_count": null,
   "metadata": {},
   "outputs": [],
   "source": [
    "with h5py.File(well_cells_filename, 'r') as f:\n",
    "    iuobs = f.get('well_cells')[:].ravel() - 1\n",
    "\n",
    "prob = DarcyExp(TPFA(geom, bc), iuobs, amps)\n",
    "uref = prob.solve(Yref)\n",
    "\n",
    "Nuobs = iuobs.size\n",
    "uobs = uref[iuobs]"
   ]
  },
  {
   "cell_type": "code",
   "execution_count": null,
   "metadata": {},
   "outputs": [],
   "source": [
    "patches = [mpatches.Polygon(v, closed=True) for v in geom.nodes.coords.T[geom.cells.nodes.T, :]]"
   ]
  },
  {
   "cell_type": "code",
   "execution_count": null,
   "metadata": {},
   "outputs": [],
   "source": [
    "rl2e = lambda yest, yref : spl.norm(yest - yref, 2) / spl.norm(yref + Yfac, 2)\n",
    "infe = lambda yest, yref : spl.norm(yest - yref, np.inf)"
   ]
  },
  {
   "cell_type": "code",
   "execution_count": null,
   "metadata": {},
   "outputs": [],
   "source": [
    "if os.path.exists(yobs_filename):\n",
    "    print(f\"iYobs read from file {yobs_filename}\")\n",
    "    iYobs_fine = np.load(yobs_filename)\n",
    "    if iYobs_fine.shape[0] < num_trials:\n",
    "        print(\"iYobs randomly generated\")\n",
    "        iYobs = rs.choice(Yref.size, NYobs, replace=False)\n",
    "    geom_fine = GeomMRST(geom_fine_filename)\n",
    "else:\n",
    "    print(\"iYobs randomly generated\")\n",
    "    iYobs = rs.choice(Yref.size, NYobs, replace=False)\n",
    "    np.save(yobs_filename, iYobs)\n",
    "\n",
    "iYobs = np.array([geom.cellsContain(geom_fine.cells.centroids.T[iYobs_fine[t]]) for t in range(num_trials)])"
   ]
  },
  {
   "cell_type": "code",
   "execution_count": null,
   "metadata": {},
   "outputs": [],
   "source": [
    "fig, ax = plt.subplots(1, 1, figsize=(4, 4))\n",
    "plot_patch(patches, Yref + Yfac, fig, ax, geom.cells.centroids[:, iYobs[0]], 'Yref', 0, 12)\n",
    "fig.tight_layout()\n",
    "#fig.savefig(f'hanford/figures/Yref_NY={NYobs}_1x_from_4x.pdf', dpi=300)"
   ]
  },
  {
   "cell_type": "code",
   "execution_count": null,
   "metadata": {
    "tags": []
   },
   "outputs": [],
   "source": [
    "exp = f'NY={NYobs}_Nu={iuobs.size}_{NYlearn=}_{NYxi=}_gamma={gamma_map}_cklmap_h1reg_{amps=}_{ref}'\n",
    "print(exp)"
   ]
  },
  {
   "cell_type": "code",
   "execution_count": null,
   "metadata": {},
   "outputs": [],
   "source": [
    "timings = np.zeros((num_trials, 6))\n",
    "nfevs = np.zeros((num_trials, 3), dtype=int)\n",
    "rel_errors = np.zeros((num_trials, 4))\n",
    "abs_errors = np.zeros((num_trials, 4))\n",
    "\n",
    "Yobs = np.zeros((num_trials, NYobs))\n",
    "Ypred = np.zeros((num_trials, Nc))\n",
    "CYpred = np.zeros((num_trials, Nc, Nc))\n",
    "umean = np.zeros((num_trials, Nc))\n",
    "Cu = np.zeros((num_trials, Nc, Nc))\n",
    "upred = np.zeros((num_trials, Nc))\n",
    "Cupred = np.zeros((num_trials, Nc, Nc))\n",
    "\n",
    "PsiY = np.zeros((num_trials, Nc, NYxi))\n",
    "LambdaY = np.zeros((num_trials, NYxi))\n",
    "\n",
    "Yest = np.zeros((num_trials, Nc))"
   ]
  },
  {
   "cell_type": "code",
   "execution_count": null,
   "metadata": {},
   "outputs": [],
   "source": [
    "for t in range(num_trials):\n",
    "    Yobs[t] = Yref[iYobs[t]]\n",
    "\n",
    "    ts = perf_counter()\n",
    "    klearn = GPy.kern.sde_Matern52(input_dim=2, variance=std_dev_ref**2, lengthscale=cor_len_ref)\n",
    "    mYlearn = GPy.models.GPRegression(geom.cells.centroids[:, iYobs[t]].T, Yobs[t, :, None], klearn, noise_var=np.sqrt(np.finfo(float).eps))\n",
    "    mYlearn.optimize(messages=True, ipython_notebook=False)\n",
    "    mYref = GPy.models.GPRegression(geom.cells.centroids[:, iYobs[t]].T, Yobs[t, :, None], mYlearn.kern, noise_var=np.sqrt(np.finfo(float).eps))\n",
    "    Ypred[t], CYpred[t] = (lambda x, y : (x.ravel(), y))(*mYref.predict_noiseless(geom.cells.centroids.T, full_cov=True))\n",
    "    timings[t, 0] = perf_counter() - ts\n",
    "\n",
    "print(f\"GPR: {timings[:, 0]} s\")"
   ]
  },
  {
   "cell_type": "code",
   "execution_count": null,
   "metadata": {},
   "outputs": [],
   "source": [
    "Ym = Ypred\n",
    "CYm = CYpred\n",
    "\n",
    "rel_errors[:, 0] = np.array([rl2e(Ym[t], Yref) for t in range(num_trials)])\n",
    "abs_errors[:, 0] = np.array([infe(Ym[t], Yref) for t in range(num_trials)])\n",
    "\n",
    "print(f\"GPR\\tRelative error: {rel_errors[:, 0]}\")\n",
    "print(f\"GPR\\tInfinity error: {abs_errors[:, 0]}\")"
   ]
  },
  {
   "cell_type": "code",
   "execution_count": null,
   "metadata": {},
   "outputs": [],
   "source": [
    "for t in range(num_trials):\n",
    "    ts = perf_counter()\n",
    "    PsiY[t], LambdaY[t] = ckliest.KL_via_eigh(CYm[t], NYxi)\n",
    "    timings[t, 2] = perf_counter() - ts\n",
    "\n",
    "print(f\"eigendecomposition: {timings[:, 2]} s\")"
   ]
  },
  {
   "cell_type": "code",
   "execution_count": null,
   "metadata": {},
   "outputs": [],
   "source": [
    "#BA = ba.BA(A1d_iuobs.T, u_pce_eta_arr, NYxi, uobs, gamma_map)"
   ]
  },
  {
   "cell_type": "code",
   "execution_count": null,
   "metadata": {
    "tags": [
     "outputPrepend"
    ]
   },
   "outputs": [],
   "source": [
    "# CKL-MAP H1 estimate\n",
    "Lreg = mapest.compute_Lreg(geom)\n",
    "for t in range(num_trials):\n",
    "    loss = mapest.LossVec(Nc, Nc, iuobs, uobs, iYobs[t], Yobs[t], gamma_map, Lreg) # H1 regularization\n",
    "    if amps:\n",
    "        prob.setup_amps(iuobs)\n",
    "        dasa = DASAExpKLAMPS(prob.partial_solve, loss.val, loss.grad_u, loss.grad_Y, prob.residual_sens_u, prob.residual_sens_Y, prob.u_sens_p, (Nuobs + NYobs + Ninf, NYxi), Nuobs, Ym[t], PsiY[t])\n",
    "    else:\n",
    "        dasa = DASAExpKL(prob.solve, loss.val, loss.grad_u, loss.grad_Y, prob.residual_sens_u,\n",
    "                         prob.residual_sens_Y, (Nuobs + NYobs + Ninf, NYxi), Nuobs, Ym[t], PsiY[t], prob.adj_solve)\n",
    "    ts = perf_counter()\n",
    "    sol = spo.least_squares(dasa.obj, np.zeros(NYxi), jac=dasa.grad, method=lsq_method, verbose=2)\n",
    "    Yest[t] = Ym[t] + PsiY[t] @ sol.x\n",
    "    MAP_status = sol.status\n",
    "    timings[t, 4] = perf_counter() - ts\n",
    "    nfevs[t, 1] = sol.nfev\n",
    "    print(f'CKL-MAP status: {MAP_status}, message: {sol.message}')\n",
    "\n",
    "rel_errors[:, 2] = np.array([rl2e(Yest[t], Yref) for t in range(num_trials)])\n",
    "abs_errors[:, 2] = np.array([infe(Yest[t], Yref) for t in range(num_trials)])\n",
    "\n",
    "print(f\"CKL-MAP: {timings[:, 4]} s\")\n",
    "print(f\"CKL-MAP relative L2 error: {rel_errors[:, 2]}\")\n",
    "print(f\"CKL-MAP absolute infinity error: {abs_errors[:, 2]}\")\n"
   ]
  },
  {
   "cell_type": "code",
   "execution_count": null,
   "metadata": {},
   "outputs": [],
   "source": [
    "if draw_graph_pdf:\n",
    "    plt.rcParams['lines.linewidth'] = 1\n",
    "    fig, ax = plt.subplots(figsize=(6, 6))\n",
    "    ax.plot(*geom.nodes.coords[:, geom.faces.nodes[:, geom.faces.num_interior:]], '#228b22')\n",
    "    if prob.amps is not None and prob.amps.L is not None:\n",
    "        centroids = geom.cells.centroids.T[prob.amps.P]\n",
    "        ax.plot(*centroids[-1], '*-', c='gray', mfc='black', mec='none', ms='6', label='directed tree $G(L)$ and its root', zorder=2)\n",
    "        first_nonclosure = False\n",
    "        first_closure = False\n",
    "        p = np.zeros((2, 2))\n",
    "        for j in range(Nc-1):\n",
    "            color = 'black' if np.all(prob.amps.closure_right_jac[j, (0, 20)]) else \\\n",
    "                    'red' if prob.amps.closure_right_jac[j, 0] else \\\n",
    "                    'blue' if prob.amps.closure_right_jac[j, 20] else 'gray'\n",
    "            p[:, 0] = centroids[j]\n",
    "            p[:, 1] = centroids[prob.amps.L.indices[prob.amps.L.indptr[j]+1]]\n",
    "            line, = ax.plot(*p, color=color, zorder=1)\n",
    "            if not first_closure and np.all(prob.amps.closure_right_jac[j, (0, 20)]):\n",
    "                line.set_label('common closure')\n",
    "                first_closure = True\n",
    "            if not first_nonclosure and not np.any(prob.amps.closure_right_jac[j, (0, 20)]):\n",
    "                #line.set_label('$G(L)$')\n",
    "                ax.plot(\n",
    "                    *centroids[np.flatnonzero(prob.amps.closure_right_jac[:, 0])[0]], 'ro-', ms='3', label='closure 1', zorder=2)\n",
    "                ax.plot(\n",
    "                    *centroids[np.flatnonzero(prob.amps.closure_right_jac[:, 20])[0]], 'bo-', ms='3', label='closure 2', zorder=2)\n",
    "                first_nonclosure = True\n",
    "    ax.set_aspect('equal')\n",
    "    ax.axis('off')\n",
    "    ax.legend(loc='lower left', frameon=False, prop={'size': 10})\n",
    "    fig.tight_layout()\n",
    "    figures_path = '../figures/'\n",
    "    fig.savefig(figures_path +\n",
    "                f'closure_{exp}.pdf', dpi=1200, bbox_inches='tight')\n"
   ]
  },
  {
   "cell_type": "code",
   "execution_count": null,
   "metadata": {},
   "outputs": [],
   "source": [
    "if draw_field:\n",
    "    hex_colors = np.array([colors.to_hex(cm.get_cmap('jet')(colors.Normalize(0, 12)(Yref + Yfac))[t]) for t in range(Nc)])\n",
    "    vertices = np.around(geom.nodes.coords.T[geom.cells.nodes.T, :], 4)\n",
    "\n",
    "    d = draw.Drawing(1, 1)\n",
    "    d.setRenderSize(1000, 1000)\n",
    "    g = draw.Group(stroke_width=0.001, stroke='black')\n",
    "    g.append(draw.Animate('fill-opacity', '4s', '0; 0; 1', keyTimes=\"0; 0.5; 1\", fill='remove', id='seq_0'))\n",
    "    g.append(draw.Animate('stroke-opacity', '2s', to='0', begin='2s', fill='freeze'))\n",
    "    n, m = vertices.shape[:-1]\n",
    "    v = np.empty((m + 1, m + 1), dtype=object)\n",
    "    for j in range(n):\n",
    "        p = draw.Path(fill=hex_colors[j]).M(*vertices[j, 0, :])\n",
    "        v[:-1, 0] = np.repeat('M{},-{}'.format(*vertices[j, 0, :]), m)\n",
    "        for i in range(1, m):\n",
    "            p.L(*vertices[j, i, :])\n",
    "            for k in range(i):\n",
    "                v[k, i] = ' L{},-{}'.format(*vertices[j, k, :])\n",
    "            for k in range(i, m):\n",
    "                v[k, i] = ' L{},-{}'.format(*vertices[j, i, :])\n",
    "        for k in range(m):\n",
    "            v[k, m] = ' L{},-{}'.format(*vertices[j, k, :])\n",
    "            v[m, k] = v[m - 1, k]\n",
    "        v[m, m] = ' L{},-{}'.format(*vertices[j, 0, :])\n",
    "        p.appendAnim(draw.Animate('d', '2s', ';\\n'.join([''.join(r) for r in v]), fill='remove'))\n",
    "        g.append(p.Z())\n",
    "    d.append(g)\n",
    "\n",
    "    #arrow_head = draw.Marker(-0.5, -0.5, 0.5, 0.5, scale=5, orient='auto')\n",
    "    #arrow_head.append(draw.Lines(-0.5, -0.5, -0.5, 0.5, 0.5, 0, fill='blue', close=True))\n",
    "    if prob.amps is not None and prob.amps.L is not None:\n",
    "        centroids = np.around(geom.cells.centroids.T, 4)[prob.amps.P]\n",
    "        obs_points = prob.amps.inz_left[prob.amps.P]\n",
    "        g = draw.Group(stroke_width=0.001, fill='none')\n",
    "        for j in range(Nc-1):\n",
    "        #for j in range(prob.amps.new_to_old_left[1]+1):\n",
    "            color = 'black' if prob.amps.closure_left[j] else 'gray'\n",
    "            p1 = centroids[j]\n",
    "            p2 = centroids[prob.amps.L.indices[prob.amps.L.indptr[j]+1]]\n",
    "            l = draw.Line(*p1, *p2, stroke=color, stroke_opacity=0)\n",
    "            l.appendAnim(draw.Animate('d', '0.1s', 'M{0},-{1} L{0},-{1};M{0},-{1} L{2},-{3}'.format(*p1, *p2), fill='remove', id=f'seq_{j+1}', begin='4s' if j == 0 else f'seq_{j}.end'))\n",
    "            l.appendAnim(draw.Set('stroke-opacity', 'indefinite', to=1, begin='4s' if j == 0 else f'seq_{j}.end'))\n",
    "            g.append(l)\n",
    "            if obs_points[j]:\n",
    "                c = draw.Circle(*centroids[j], 0.002, fill='black', opacity=0)\n",
    "                c.appendAnim(draw.Set('opacity', 'indefinite', to=1, begin='4s' if j == 0 else f'seq_{j}.end'))\n",
    "                g.append(c)\n",
    "        d.append(g)\n",
    "        d.append(draw.Circle(*centroids[-1], 0.002, fill='gray'))\n",
    "\n",
    "    d.saveSvg(results_path + 'hanford.svg')"
   ]
  },
  {
   "cell_type": "code",
   "execution_count": null,
   "metadata": {},
   "outputs": [],
   "source": [
    "np.savetxt(results_path + f'iYobs/iYobs_{exp}.txt', iYobs.astype(int), fmt='%i')\n",
    "np.savetxt(results_path + f'timings/timings_{exp}.txt', timings)\n",
    "np.savetxt(results_path + f'nfevs/nfevs_{exp}.txt', nfevs.astype(int), fmt='%i')\n",
    "np.savetxt(results_path + f'rel_errors/rel_errors_{exp}.txt', rel_errors)\n",
    "np.savetxt(results_path + f'abs_errors/abs_errors_{exp}.txt', abs_errors)\n",
    "np.savetxt(results_path + f'YGPR/YGPR_{exp}.txt', Yref)\n",
    "np.savetxt(results_path + f'YMAP/YMAP_{exp}.txt', Yest)"
   ]
  },
  {
   "cell_type": "code",
   "execution_count": null,
   "metadata": {},
   "outputs": [],
   "source": []
  }
 ],
 "metadata": {
  "kernelspec": {
   "display_name": "Python 3.8.2 64-bit",
   "language": "python",
   "name": "python3"
  },
  "language_info": {
   "codemirror_mode": {
    "name": "ipython",
    "version": 3
   },
   "file_extension": ".py",
   "mimetype": "text/x-python",
   "name": "python",
   "nbconvert_exporter": "python",
   "pygments_lexer": "ipython3",
   "version": "3.8.2"
  },
  "metadata": {
   "interpreter": {
    "hash": "aee8b7b246df8f9039afb4144a1f6fd8d2ca17a180786b69acc140d282b71a49"
   }
  },
  "vscode": {
   "interpreter": {
    "hash": "31f2aee4e71d21fbe5cf8b01ff0e069b9275f58929596ceb00d14d90e3e16cd6"
   }
  }
 },
 "nbformat": 4,
 "nbformat_minor": 4
}
