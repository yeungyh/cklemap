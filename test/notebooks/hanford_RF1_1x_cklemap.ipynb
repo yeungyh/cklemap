{
 "cells": [
  {
   "cell_type": "code",
   "execution_count": 1,
   "metadata": {},
   "outputs": [
    {
     "name": "stderr",
     "output_type": "stream",
     "text": [
      " /Users/yeun260/Library/Python/3.8/lib/python/site-packages/drawSvg/raster.py:18: RuntimeWarning:Failed to import CairoSVG. drawSvg will be unable to output PNG or other raster image formats. See https://github.com/cduck/drawSvg#prerequisites for more details.\n",
      "Original OSError: no library called \"cairo\" was found\n",
      "no library called \"libcairo-2\" was found\n",
      "cannot load library 'libcairo.so.2': dlopen(libcairo.so.2, 2): image not found\n",
      "cannot load library 'libcairo.2.dylib': dlopen(libcairo.2.dylib, 2): image not found\n",
      "cannot load library 'libcairo-2.dll': dlopen(libcairo-2.dll, 2): image not found\n"
     ]
    }
   ],
   "source": [
    "import paths\n",
    "import yaml\n",
    "import os\n",
    "import copy\n",
    "import numpy as np\n",
    "import numpy.random as npr\n",
    "import scipy.optimize as spo\n",
    "import scipy.linalg as spl\n",
    "from matplotlib import pyplot as plt, path as mpath, collections as mc, patches as mpatches, cm, ticker, colors\n",
    "from mpl_toolkits.axes_grid1 import make_axes_locatable\n",
    "from cklemap.sdfs.geom_mrst import GeomMRST\n",
    "from cklemap.sdfs.bc_mrst import BCMRST\n",
    "from cklemap.sdfs.tpfa import TPFA\n",
    "from time import perf_counter\n",
    "import cklemap.ckli.ckliest_h1reg as ckliest\n",
    "import h5py\n",
    "import GPy\n",
    "import drawSvg as draw"
   ]
  },
  {
   "cell_type": "code",
   "execution_count": 2,
   "metadata": {},
   "outputs": [],
   "source": [
    "amps = True\n",
    "if amps:\n",
    "    from cklemap.sdfs.darcy import DarcyExp\n",
    "    from cklemap.sdfs.dasa import DASAExpKLAMPS\n",
    "    import cklemap.ckli.mapest as mapest\n",
    "else:\n",
    "    from cklemap.sdfs.darcy_old import DarcyExp\n",
    "    from cklemap.sdfs.dasa_old import DASAExpKL\n",
    "    import cklemap.ckli.mapest_old as mapest"
   ]
  },
  {
   "cell_type": "code",
   "execution_count": 3,
   "metadata": {},
   "outputs": [],
   "source": [
    "plt.rc('text', usetex=True)\n",
    "plt.rc('image', cmap='plasma')\n",
    "\n",
    "def plot_patch(patches, values, fig, ax, points, title, cmin=None, cmax=None):\n",
    "    p = mc.PatchCollection(patches, cmap=cm.jet)\n",
    "    p.set_array(values)\n",
    "    p.set_clim([cmin, cmax])\n",
    "    ax.add_collection(p)\n",
    "    if points is not None:\n",
    "        ax.plot(*points, 'ko', markersize=0.5)\n",
    "    ax.set_aspect('equal')\n",
    "    ax.axis('off')\n",
    "    ax.autoscale(tight=True)\n",
    "    #ax.set_title(title)\n",
    "    #fig.colorbar(p, ax=ax)\n",
    "    return p"
   ]
  },
  {
   "cell_type": "code",
   "execution_count": 4,
   "metadata": {},
   "outputs": [],
   "source": [
    "# Parameters\n",
    "res_fac = 1\n",
    "resolution = '1x'\n",
    "resolution_iYobs = '16x'\n",
    "num_trials = 1\n",
    "seed = 0\n",
    "#Nuobs = 50\n",
    "NYobs = 100\n",
    "NYlearn = NYobs\n",
    "NYrefobs = 50\n",
    "NYxi = 1000\n",
    "Nens = 5000\n",
    "gamma_map = 1e-6\n",
    "std_dev_ref = 1.0\n",
    "cor_len_ref = 0.1\n",
    "lsq_method = 'trf'\n",
    "draw_field = False\n",
    "data_path = '../data/'\n",
    "results_path = '../results/'\n",
    "geom_filename = data_path + f'geom/geom_{resolution}.mat'\n",
    "bc_filename = data_path + f'bc/bc_{resolution}.mat'\n",
    "conduct_filename = data_path + f'RF1/conduct_log_RF1_{resolution}.mat'\n",
    "well_cells_filename = data_path + f'well_cells/well_cells_{resolution}.mat'\n",
    "yobs_filename = data_path + f'yobs/yobs_{NYobs}_{resolution_iYobs}.npy'\n",
    "geom_fine_filename = data_path + f'geom/geom_{resolution_iYobs}.mat'\n",
    "ref = \"Yref=orig\""
   ]
  },
  {
   "cell_type": "code",
   "execution_count": 5,
   "metadata": {},
   "outputs": [],
   "source": [
    "Yfac = 7.0 # Rescaling factor for log-conductivity. Must be applied to Yref and the BCs\n",
    "\n",
    "geom = GeomMRST(geom_filename)\n",
    "bc = BCMRST(geom, bc_filename)\n",
    "bc.rescale('N', Yfac)\n",
    "\n",
    "rs = npr.RandomState(seed)\n",
    "Nc = geom.cells.num\n",
    "Ninf = geom.faces.num_interior\n",
    "\n",
    "with h5py.File(conduct_filename, 'r') as f:\n",
    "    Yref = f.get('conduct_log')[:].ravel() - Yfac"
   ]
  },
  {
   "cell_type": "code",
   "execution_count": 6,
   "metadata": {},
   "outputs": [],
   "source": [
    "prob = DarcyExp(TPFA(geom, bc))\n",
    "uref = prob.solve(Yref)"
   ]
  },
  {
   "cell_type": "code",
   "execution_count": 7,
   "metadata": {},
   "outputs": [],
   "source": [
    "with h5py.File(well_cells_filename, 'r') as f:\n",
    "    iuobs = f.get('well_cells')[:].ravel() - 1\n",
    "\n",
    "Nuobs = iuobs.size\n",
    "uobs = uref[iuobs]"
   ]
  },
  {
   "cell_type": "code",
   "execution_count": 8,
   "metadata": {},
   "outputs": [],
   "source": [
    "patches = [mpatches.Polygon(v, closed=True) for v in geom.nodes.coords.T[geom.cells.nodes.T, :]]"
   ]
  },
  {
   "cell_type": "code",
   "execution_count": 9,
   "metadata": {},
   "outputs": [],
   "source": [
    "rl2e = lambda yest, yref : spl.norm(yest - yref, 2) / spl.norm(yref, 2)\n",
    "infe = lambda yest, yref : spl.norm(yest - yref, np.inf)"
   ]
  },
  {
   "cell_type": "code",
   "execution_count": 10,
   "metadata": {},
   "outputs": [
    {
     "name": "stdout",
     "output_type": "stream",
     "text": [
      "iYobs read from file ../data/yobs/yobs_100_16x.npy\n"
     ]
    }
   ],
   "source": [
    "if os.path.exists(yobs_filename):\n",
    "    print(f\"iYobs read from file {yobs_filename}\")\n",
    "    iYobs_fine = np.load(yobs_filename)\n",
    "    if iYobs_fine.shape[0] < num_trials:\n",
    "        print(\"iYobs randomly generated\")\n",
    "        iYobs = rs.choice(Yref.size, NYobs, replace=False)\n",
    "    geom_fine = GeomMRST(geom_fine_filename)\n",
    "else:\n",
    "    print(\"iYobs randomly generated\")\n",
    "    iYobs = rs.choice(Yref.size, NYobs, replace=False)\n",
    "    np.save(yobs_filename, iYobs)\n",
    "\n",
    "iYobs = np.array([geom.cellsContain(geom_fine.cells.centroids.T[iYobs_fine[t]]) for t in range(num_trials)])"
   ]
  },
  {
   "cell_type": "code",
   "execution_count": 11,
   "metadata": {},
   "outputs": [
    {
     "data": {
      "image/png": "[encoded data removed]",
      "text/plain": [
       "<Figure size 288x288 with 1 Axes>"
      ]
     },
     "metadata": {
      "needs_background": "light"
     },
     "output_type": "display_data"
    }
   ],
   "source": [
    "fig, ax = plt.subplots(1, 1, figsize=(4, 4))\n",
    "plot_patch(patches, Yref + Yfac, fig, ax, geom.cells.centroids[:, iYobs[0]], 'Yref', 0, 12)\n",
    "fig.tight_layout()\n",
    "#fig.savefig(f'hanford/figures/Yref_NY={NYobs}_1x_from_4x.pdf', dpi=300)"
   ]
  },
  {
   "cell_type": "code",
   "execution_count": 12,
   "metadata": {
    "tags": []
   },
   "outputs": [
    {
     "name": "stdout",
     "output_type": "stream",
     "text": [
      "NY=100_Nu=323_NYlearn=100_NYxi=1000_gamma=1e-06_cklmap_h1reg_amps=True_Yref=orig\n"
     ]
    }
   ],
   "source": [
    "exp = f'NY={NYobs}_Nu={iuobs.size}_{NYlearn=}_{NYxi=}_gamma={gamma_map}_cklmap_h1reg_{amps=}_{ref}'\n",
    "print(exp)"
   ]
  },
  {
   "cell_type": "code",
   "execution_count": 13,
   "metadata": {},
   "outputs": [],
   "source": [
    "timings = np.zeros((num_trials, 6))\n",
    "nfevs = np.zeros((num_trials, 3), dtype=int)\n",
    "rel_errors = np.zeros((num_trials, 4))\n",
    "abs_errors = np.zeros((num_trials, 4))\n",
    "\n",
    "Yobs = np.zeros((num_trials, NYobs))\n",
    "Ypred = np.zeros((num_trials, Nc))\n",
    "CYpred = np.zeros((num_trials, Nc, Nc))\n",
    "umean = np.zeros((num_trials, Nc))\n",
    "Cu = np.zeros((num_trials, Nc, Nc))\n",
    "upred = np.zeros((num_trials, Nc))\n",
    "Cupred = np.zeros((num_trials, Nc, Nc))\n",
    "\n",
    "PsiY = np.zeros((num_trials, Nc, NYxi))\n",
    "LambdaY = np.zeros((num_trials, NYxi))\n",
    "\n",
    "Yest = np.zeros((num_trials, Nc))"
   ]
  },
  {
   "cell_type": "code",
   "execution_count": 16,
   "metadata": {},
   "outputs": [
    {
     "name": "stdout",
     "output_type": "stream",
     "text": [
      "Running L-BFGS-B (Scipy implementation) Code:\n",
      "  runtime   i      f              |g|        \n",
      "    00s02  0006   1.837728e+02   2.073321e+03 \n",
      "    00s05  0012   1.499870e+02   1.070512e+00 \n",
      "    00s08  0020   1.487627e+02   2.502102e-01 \n",
      "    00s09  0021   1.487560e+02   3.094093e-02 \n",
      "    00s12  0028   1.487508e+02   1.509072e-04 \n",
      "    00s15  0037   1.487508e+02   5.562569e-08 \n",
      "Runtime:     00s15\n",
      "Optimization status: Converged\n",
      "\n",
      "GPR: [0.37225787] s\n"
     ]
    }
   ],
   "source": [
    "for t in range(num_trials):\n",
    "    Yobs[t] = Yref[iYobs[t]]\n",
    "\n",
    "    ts = perf_counter()\n",
    "    klearn = GPy.kern.sde_Matern52(input_dim=2, variance=std_dev_ref**2, lengthscale=cor_len_ref)\n",
    "    mYlearn = GPy.models.GPRegression(geom.cells.centroids[:, iYobs[t]].T, Yobs[t, :, None], klearn, noise_var=np.sqrt(np.finfo(float).eps))\n",
    "    mYlearn.optimize(messages=True, ipython_notebook=False)\n",
    "    mYref = GPy.models.GPRegression(geom.cells.centroids[:, iYobs[t]].T, Yobs[t, :, None], mYlearn.kern, noise_var=np.sqrt(np.finfo(float).eps))\n",
    "    Ypred[t], CYpred[t] = (lambda x, y : (x.ravel(), y))(*mYref.predict_noiseless(geom.cells.centroids.T, full_cov=True))\n",
    "    timings[t, 0] = perf_counter() - ts\n",
    "\n",
    "print(f\"GPR: {timings[:, 0]} s\")"
   ]
  },
  {
   "cell_type": "code",
   "execution_count": 17,
   "metadata": {},
   "outputs": [
    {
     "name": "stdout",
     "output_type": "stream",
     "text": [
      "GPR\tRelative error: [0.5555053]\n",
      "GPR\tInfinity error: [5.84266437]\n"
     ]
    }
   ],
   "source": [
    "Ym = Ypred\n",
    "CYm = CYpred\n",
    "\n",
    "rel_errors[:, 0] = np.array([rl2e(Ym[t], Yref) for t in range(num_trials)])\n",
    "abs_errors[:, 0] = np.array([infe(Ym[t], Yref) for t in range(num_trials)])\n",
    "\n",
    "print(f\"GPR\\tRelative error: {rel_errors[:, 0]}\")\n",
    "print(f\"GPR\\tInfinity error: {abs_errors[:, 0]}\")"
   ]
  },
  {
   "cell_type": "code",
   "execution_count": 18,
   "metadata": {},
   "outputs": [
    {
     "name": "stdout",
     "output_type": "stream",
     "text": [
      "eigendecomposition: [1.60820117] s\n"
     ]
    }
   ],
   "source": [
    "for t in range(num_trials):\n",
    "    ts = perf_counter()\n",
    "    PsiY[t], LambdaY[t] = ckliest.KL_via_eigh(CYm[t], NYxi)\n",
    "    timings[t, 2] = perf_counter() - ts\n",
    "\n",
    "print(f\"eigendecomposition: {timings[:, 2]} s\")"
   ]
  },
  {
   "cell_type": "code",
   "execution_count": 19,
   "metadata": {
    "tags": [
     "outputPrepend"
    ]
   },
   "outputs": [
    {
     "name": "stdout",
     "output_type": "stream",
     "text": [
      "   Iteration     Total nfev        Cost      Cost reduction    Step norm     Optimality   \n",
      "       0              1         6.4220e+01                                    3.42e+01    \n",
      "       1              2         1.5528e+01      4.87e+01       1.00e+00       8.53e+00    \n",
      "       2              3         3.3249e+00      1.22e+01       2.00e+00       7.71e-01    \n",
      "       3              4         4.4733e-01      2.88e+00       4.00e+00       1.71e+00    \n",
      "       4              5         1.5555e-01      2.92e-01       8.00e+00       1.47e+00    \n",
      "       5              6         2.4556e-02      1.31e-01       8.00e+00       6.74e-01    \n",
      "       6              8         2.5933e-03      2.20e-02       4.00e+00       9.21e-02    \n",
      "       7             10         1.4693e-03      1.12e-03       2.00e+00       1.54e-02    \n",
      "       8             11         1.0630e-03      4.06e-04       4.00e+00       6.88e-02    \n",
      "       9             12         9.2925e-04      1.34e-04       4.00e+00       8.60e-02    \n",
      "      10             14         6.4313e-04      2.86e-04       1.00e+00       6.29e-03    \n",
      "      11             15         6.3479e-04      8.34e-06       2.00e+00       3.69e-02    \n",
      "      12             16         5.9160e-04      4.32e-05       5.00e-01       2.31e-03    \n",
      "      13             17         5.7926e-04      1.23e-05       1.00e+00       9.92e-03    \n",
      "      14             19         5.7042e-04      8.84e-06       5.00e-01       2.41e-03    \n",
      "      15             20         5.6085e-04      9.57e-06       1.00e+00       9.19e-03    \n",
      "      16             22         5.5345e-04      7.40e-06       5.00e-01       2.09e-03    \n",
      "      17             23         5.4520e-04      8.25e-06       1.00e+00       7.17e-03    \n",
      "      18             24         5.3965e-04      5.56e-06       2.00e+00       1.93e-02    \n",
      "      19             25         5.1702e-04      2.26e-05       2.00e+00       1.21e-02    \n",
      "      20             26         5.0946e-04      7.56e-06       4.00e+00       2.44e-02    \n",
      "      21             27         5.0091e-04      8.55e-06       4.00e+00       9.39e-03    \n",
      "      22             28         4.6388e-04      3.70e-05       1.00e+00       7.96e-04    \n",
      "      23             29         4.5827e-04      5.61e-06       2.00e+00       2.32e-03    \n",
      "      24             30         4.5768e-04      5.87e-07       4.00e+00       6.81e-03    \n",
      "      25             31         4.4576e-04      1.19e-05       1.00e+00       6.61e-04    \n",
      "      26             32         4.4336e-04      2.40e-06       2.00e+00       1.68e-03    \n",
      "      27             34         4.4175e-04      1.61e-06       1.00e+00       5.54e-04    \n",
      "      28             35         4.4040e-04      1.35e-06       2.00e+00       1.52e-03    \n",
      "      29             37         4.3928e-04      1.12e-06       1.00e+00       5.98e-04    \n",
      "      30             38         4.3873e-04      5.49e-07       2.00e+00       1.53e-03    \n",
      "      31             39         4.3826e-04      4.66e-07       2.00e+00       1.73e-03    \n",
      "      32             40         4.3775e-04      5.15e-07       8.89e-01       6.39e-04    \n",
      "      33             41         4.3768e-04      6.86e-08       2.31e-01       7.93e-05    \n",
      "      34             42         4.3768e-04      2.07e-09       7.95e-02       1.12e-05    \n",
      "      35             43         4.3768e-04      1.62e-10       2.82e-02       3.52e-06    \n",
      "      36             44         4.3768e-04      2.59e-11       1.10e-02       1.22e-06    \n",
      "      37             45         4.3768e-04      5.78e-12       4.98e-03       3.76e-07    \n",
      "      38             46         4.3768e-04      1.60e-12       2.58e-03       1.38e-07    \n",
      "`ftol` termination condition is satisfied.\n",
      "Function evaluations 46, initial cost 6.4220e+01, final cost 4.3768e-04, first-order optimality 1.38e-07.\n",
      "CKL-MAP status: 2, message: `ftol` termination condition is satisfied.\n",
      "CKL-MAP: [23.00859441] s\n",
      "CKL-MAP relative L2 error: [0.32592529]\n",
      "CKL-MAP absolute infinity error: [3.76823131]\n"
     ]
    }
   ],
   "source": [
    "# CKL-MAP H1 estimate\n",
    "Lreg = mapest.compute_Lreg(geom)\n",
    "for t in range(num_trials):\n",
    "    loss = mapest.LossVec(Nc, Nc, iuobs, uobs, iYobs[t], Yobs[t], gamma_map, Lreg) # H1 regularization\n",
    "    if amps:\n",
    "        prob.setup_amps(iuobs)\n",
    "        dasa = DASAExpKLAMPS(prob.partial_solve, loss.val, loss.grad_u, loss.grad_Y, prob.residual_sens_u, prob.residual_sens_Y, prob.u_sens_p, (Nuobs + NYobs + Ninf, NYxi), Nuobs, Ym[t], PsiY[t])\n",
    "    else:\n",
    "        dasa = DASAExpKL(prob.solve, loss.val, loss.grad_u, loss.grad_Y, prob.residual_sens_u, prob.residual_sens_Y, Ym[t], PsiY[t])\n",
    "    ts = perf_counter()\n",
    "    sol = spo.least_squares(dasa.obj, np.zeros(NYxi), jac=dasa.grad, method=lsq_method, verbose=2)\n",
    "    Yest[t] = Ym[t] + PsiY[t] @ sol.x\n",
    "    MAP_status = sol.status\n",
    "    timings[t, 4] = perf_counter() - ts\n",
    "    nfevs[t, 1] = sol.nfev\n",
    "    print(f'CKL-MAP status: {MAP_status}, message: {sol.message}')\n",
    "\n",
    "rel_errors[:, 2] = np.array([rl2e(Yest[t], Yref) for t in range(num_trials)])\n",
    "abs_errors[:, 2] = np.array([infe(Yest[t], Yref) for t in range(num_trials)])\n",
    "\n",
    "print(f\"CKL-MAP: {timings[:, 4]} s\")\n",
    "print(f\"CKL-MAP relative L2 error: {rel_errors[:, 2]}\")\n",
    "print(f\"CKL-MAP absolute infinity error: {abs_errors[:, 2]}\")"
   ]
  },
  {
   "cell_type": "code",
   "execution_count": null,
   "metadata": {},
   "outputs": [],
   "source": [
    "if draw_field:\n",
    "    hex_colors = np.array([colors.to_hex(cm.get_cmap('jet')(colors.Normalize(0, 12)(Yref + Yfac))[t]) for t in range(Nc)])\n",
    "    vertices = np.around(geom.nodes.coords.T[geom.cells.nodes.T, :], 4)\n",
    "\n",
    "    d = draw.Drawing(1, 1)\n",
    "    d.setRenderSize(1000, 1000)\n",
    "    g = draw.Group(stroke_width=0.001, stroke='black')\n",
    "    g.append(draw.Animate('fill-opacity', '4s', '0; 0; 1', keyTimes=\"0; 0.5; 1\", fill='remove', id='seq_0'))\n",
    "    g.append(draw.Animate('stroke-opacity', '2s', to='0', begin='2s', fill='freeze'))\n",
    "    n, m = vertices.shape[:-1]\n",
    "    v = np.empty((m + 1, m + 1), dtype=object)\n",
    "    for j in range(n):\n",
    "        p = draw.Path(fill=hex_colors[j]).M(*vertices[j, 0, :])\n",
    "        v[:-1, 0] = np.repeat('M{},-{}'.format(*vertices[j, 0, :]), m)\n",
    "        for i in range(1, m):\n",
    "            p.L(*vertices[j, i, :])\n",
    "            for k in range(i):\n",
    "                v[k, i] = ' L{},-{}'.format(*vertices[j, k, :])\n",
    "            for k in range(i, m):\n",
    "                v[k, i] = ' L{},-{}'.format(*vertices[j, i, :])\n",
    "        for k in range(m):\n",
    "            v[k, m] = ' L{},-{}'.format(*vertices[j, k, :])\n",
    "            v[m, k] = v[m - 1, k]\n",
    "        v[m, m] = ' L{},-{}'.format(*vertices[j, 0, :])\n",
    "        p.appendAnim(draw.Animate('d', '2s', ';\\n'.join([''.join(r) for r in v]), fill='remove'))\n",
    "        g.append(p.Z())\n",
    "    d.append(g)\n",
    "\n",
    "    #arrow_head = draw.Marker(-0.5, -0.5, 0.5, 0.5, scale=5, orient='auto')\n",
    "    #arrow_head.append(draw.Lines(-0.5, -0.5, -0.5, 0.5, 0.5, 0, fill='blue', close=True))\n",
    "    if prob.amps is not None and prob.amps.L is not None:\n",
    "        centroids = np.around(geom.cells.centroids.T, 4)[prob.amps.P]\n",
    "        obs_points = prob.amps.inz_left[prob.amps.P]\n",
    "        g = draw.Group(stroke_width=0.001, fill='none')\n",
    "        for j in range(Nc-1):\n",
    "        #for j in range(prob.amps.new_to_old_left[1]+1):\n",
    "            color = 'black' if prob.amps.closure_left[j] else 'gray'\n",
    "            p1 = centroids[j]\n",
    "            p2 = centroids[prob.amps.L.indices[prob.amps.L.indptr[j]+1]]\n",
    "            l = draw.Line(*p1, *p2, stroke=color, stroke_opacity=0)\n",
    "            l.appendAnim(draw.Animate('d', '0.1s', 'M{0},-{1} L{0},-{1};M{0},-{1} L{2},-{3}'.format(*p1, *p2), fill='remove', id=f'seq_{j+1}', begin='4s' if j == 0 else f'seq_{j}.end'))\n",
    "            l.appendAnim(draw.Set('stroke-opacity', 'indefinite', to=1, begin='4s' if j == 0 else f'seq_{j}.end'))\n",
    "            g.append(l)\n",
    "            if obs_points[j]:\n",
    "                c = draw.Circle(*centroids[j], 0.002, fill='black', opacity=0)\n",
    "                c.appendAnim(draw.Set('opacity', 'indefinite', to=1, begin='4s' if j == 0 else f'seq_{j}.end'))\n",
    "                g.append(c)\n",
    "        d.append(g)\n",
    "        d.append(draw.Circle(*centroids[-1], 0.002, fill='gray'))\n",
    "\n",
    "    d.saveSvg(results_path + 'hanford.svg')"
   ]
  },
  {
   "cell_type": "code",
   "execution_count": null,
   "metadata": {},
   "outputs": [],
   "source": [
    "np.savetxt(results_path + f'iYobs/iYobs_{exp}.txt', iYobs.astype(int), fmt='%i')\n",
    "np.savetxt(results_path + f'timings/timings_{exp}.txt', timings)\n",
    "np.savetxt(results_path + f'nfevs/nfevs_{exp}.txt', nfevs.astype(int), fmt='%i')\n",
    "np.savetxt(results_path + f'rel_errors/rel_errors_{exp}.txt', rel_errors)\n",
    "np.savetxt(results_path + f'abs_errors/abs_errors_{exp}.txt', abs_errors)\n",
    "np.savetxt(results_path + f'YGPR/YGPR_{exp}.txt', Yref)\n",
    "np.savetxt(results_path + f'YMAP/YMAP_{exp}.txt', Yest)"
   ]
  },
  {
   "cell_type": "code",
   "execution_count": null,
   "metadata": {},
   "outputs": [],
   "source": []
  }
 ],
 "metadata": {
  "interpreter": {
   "hash": "aee8b7b246df8f9039afb4144a1f6fd8d2ca17a180786b69acc140d282b71a49"
  },
  "kernelspec": {
   "display_name": "Python 3.8.0 64-bit",
   "name": "python3"
  },
  "language_info": {
   "codemirror_mode": {
    "name": "ipython",
    "version": 3
   },
   "file_extension": ".py",
   "mimetype": "text/x-python",
   "name": "python",
   "nbconvert_exporter": "python",
   "pygments_lexer": "ipython3",
   "version": "3.8.0"
  },
  "metadata": {
   "interpreter": {
    "hash": "aee8b7b246df8f9039afb4144a1f6fd8d2ca17a180786b69acc140d282b71a49"
   }
  }
 },
 "nbformat": 4,
 "nbformat_minor": 4
}