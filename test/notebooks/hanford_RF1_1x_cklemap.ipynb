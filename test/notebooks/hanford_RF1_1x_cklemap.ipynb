{
 "cells": [
  {
   "cell_type": "code",
   "execution_count": 1,
   "metadata": {},
   "outputs": [
    {
     "name": "stderr",
     "output_type": "stream",
     "text": [
      " /Users/yeun260/Library/Python/3.8/lib/python/site-packages/drawSvg/raster.py:18: RuntimeWarning:Failed to import CairoSVG. drawSvg will be unable to output PNG or other raster image formats. See https://github.com/cduck/drawSvg#prerequisites for more details.\n",
      "Original OSError: no library called \"cairo\" was found\n",
      "no library called \"libcairo-2\" was found\n",
      "cannot load library 'libcairo.so.2': dlopen(libcairo.so.2, 0x0002): tried: 'libcairo.so.2' (no such file), '/System/Volumes/Preboot/Cryptexes/OSlibcairo.so.2' (no such file), '/usr/lib/libcairo.so.2' (no such file, not in dyld cache), 'libcairo.so.2' (no such file), '/usr/local/lib/libcairo.so.2' (no such file), '/usr/lib/libcairo.so.2' (no such file, not in dyld cache)\n",
      "cannot load library 'libcairo.2.dylib': dlopen(libcairo.2.dylib, 0x0002): tried: 'libcairo.2.dylib' (no such file), '/System/Volumes/Preboot/Cryptexes/OSlibcairo.2.dylib' (no such file), '/usr/lib/libcairo.2.dylib' (no such file, not in dyld cache), 'libcairo.2.dylib' (no such file), '/usr/local/lib/libcairo.2.dylib' (no such file), '/usr/lib/libcairo.2.dylib' (no such file, not in dyld cache)\n",
      "cannot load library 'libcairo-2.dll': dlopen(libcairo-2.dll, 0x0002): tried: 'libcairo-2.dll' (no such file), '/System/Volumes/Preboot/Cryptexes/OSlibcairo-2.dll' (no such file), '/usr/lib/libcairo-2.dll' (no such file, not in dyld cache), 'libcairo-2.dll' (no such file), '/usr/local/lib/libcairo-2.dll' (no such file), '/usr/lib/libcairo-2.dll' (no such file, not in dyld cache)\n"
     ]
    }
   ],
   "source": [
    "import paths\n",
    "import yaml\n",
    "import os\n",
    "import copy\n",
    "import h5py\n",
    "import GPy\n",
    "import numpy as np\n",
    "import numpy.random as npr\n",
    "import scipy.optimize as spo\n",
    "import scipy.linalg as spl\n",
    "from matplotlib import pyplot as plt, collections as mc, patches as mpatches, cm, ticker, colors\n",
    "from cklemap.sdfs.geom_mrst import GeomMRST\n",
    "from cklemap.sdfs.bc_mrst import BCMRST\n",
    "from cklemap.sdfs.tpfa import TPFA\n",
    "from time import perf_counter\n",
    "import cklemap.ckli.ckliest_h1reg as ckliest\n",
    "from cklemap.sdfs.darcy import DarcyExp\n",
    "from cklemap.sdfs.dasa import DASAExpKL, DASAExpKLAMPS\n",
    "import cklemap.ckli.mapest as mapest\n",
    "import cklemap.ckli.ba as ba\n",
    "import drawSvg as draw"
   ]
  },
  {
   "cell_type": "code",
   "execution_count": 2,
   "metadata": {},
   "outputs": [],
   "source": [
    "plt.rc('text', usetex=True)\n",
    "plt.rc('image', cmap='plasma')\n",
    "\n",
    "def plot_patch(patches, values, fig, ax, points, title, cmin=None, cmax=None):\n",
    "    p = mc.PatchCollection(patches, cmap=cm.jet)\n",
    "    p.set_array(values)\n",
    "    p.set_clim([cmin, cmax])\n",
    "    ax.add_collection(p)\n",
    "    if points is not None:\n",
    "        ax.plot(*points, 'ko', markersize=0.5)\n",
    "    ax.set_aspect('equal')\n",
    "    ax.axis('off')\n",
    "    ax.autoscale(tight=True)\n",
    "    #ax.set_title(title)\n",
    "    #fig.colorbar(p, ax=ax)\n",
    "    return p"
   ]
  },
  {
   "cell_type": "code",
   "execution_count": 3,
   "metadata": {},
   "outputs": [],
   "source": [
    "amps = True\n",
    "res_fac = 1\n",
    "resolution = '1x'\n",
    "resolution_iYobs = '1x'\n",
    "num_trials = 1\n",
    "trial_range = [0]\n",
    "seed = 0\n",
    "NYobs = 100\n",
    "NYlearn = NYobs\n",
    "NYrefobs = 50\n",
    "NYxi = 1000\n",
    "Nens = 5000\n",
    "gamma_map = 1e-6\n",
    "std_dev_ref = 1.0\n",
    "cor_len_ref = 0.1\n",
    "lsq_method = 'trf'\n",
    "conditional = True\n",
    "draw_field = False\n",
    "draw_graph_pdf = False\n",
    "data_path = '../data/'\n",
    "results_path = '../results/'\n",
    "figures_path = '../figures/'\n",
    "geom_filename = data_path + f'geom/geom_{resolution}.mat'\n",
    "bc_filename = data_path + f'bc/bc_{resolution}.mat'\n",
    "conduct_filename = data_path + f'yref/conduct_log_RF1_{resolution}.mat'\n",
    "well_cells_filename = data_path + f'well_cells/well_cells_{resolution}.mat'\n",
    "yobs_filename = data_path + f'yobs/yobs_{NYobs}_{resolution_iYobs}.npy'\n",
    "geom_fine_filename = data_path + f'geom/geom_{resolution_iYobs}.mat'\n",
    "ref = \"Yref=RF1\""
   ]
  },
  {
   "cell_type": "code",
   "execution_count": 4,
   "metadata": {},
   "outputs": [],
   "source": [
    "Yfac = 7.0 # Rescaling factor for log-conductivity. Must be applied to Yref and the BCs\n",
    "\n",
    "geom = GeomMRST(geom_filename)\n",
    "bc = BCMRST(geom, bc_filename)\n",
    "bc.rescale('N', Yfac)\n",
    "\n",
    "rs = npr.RandomState(seed)\n",
    "Nc = geom.cells.num\n",
    "Ninf = geom.faces.num_interior\n",
    "\n",
    "with h5py.File(conduct_filename, 'r') as f:\n",
    "    Yref = f.get('conduct_log')[:].ravel() - Yfac"
   ]
  },
  {
   "cell_type": "code",
   "execution_count": 5,
   "metadata": {},
   "outputs": [],
   "source": [
    "with h5py.File(well_cells_filename, 'r') as f:\n",
    "    iuobs = f.get('well_cells')[:].ravel() - 1\n",
    "\n",
    "prob = DarcyExp(TPFA(geom, bc), iuobs, amps)\n",
    "uref = prob.solve(Yref)\n",
    "\n",
    "Nuobs = iuobs.size\n",
    "uobs = uref[iuobs]"
   ]
  },
  {
   "cell_type": "code",
   "execution_count": 6,
   "metadata": {},
   "outputs": [],
   "source": [
    "patches = [mpatches.Polygon(v, closed=True) for v in geom.nodes.coords.T[geom.cells.nodes.T, :]]"
   ]
  },
  {
   "cell_type": "code",
   "execution_count": 7,
   "metadata": {},
   "outputs": [],
   "source": [
    "rl2e = lambda yest, yref : spl.norm(yest - yref, 2) / spl.norm(yref + Yfac, 2)\n",
    "infe = lambda yest, yref : spl.norm(yest - yref, np.inf)"
   ]
  },
  {
   "cell_type": "code",
   "execution_count": 8,
   "metadata": {},
   "outputs": [
    {
     "name": "stdout",
     "output_type": "stream",
     "text": [
      "iYobs set read from file ../data/yobs/yobs_100_1x.npy\n",
      "[[   4   14   31   34   52   53   54   82   89  122  141  142  148  152\n",
      "   187  191  192  218  231  254  260  278  302  315  322  326  333  342\n",
      "   347  361  362  364  376  408  420  427  431  434  438  446  458  465\n",
      "   481  483  487  529  535  536  554  558  587  597  620  651  667  674\n",
      "   737  758  761  838  847  853  857  863  884  897  900  930  942  961\n",
      "  1001 1003 1030 1031 1054 1061 1069 1081 1095 1114 1122 1126 1131 1157\n",
      "  1164 1175 1178 1187 1239 1270 1280 1285 1305 1338 1347 1352 1402 1438\n",
      "  1444 1465]\n",
      " [  22   33   56   60   71   92  104  117  118  138  146  181  183  213\n",
      "   216  227  246  248  276  302  306  311  329  333  336  352  378  388\n",
      "   396  406  410  418  436  454  495  496  499  509  533  537  542  543\n",
      "   545  547  548  600  611  615  641  643  648  668  673  678  681  692\n",
      "   695  701  719  760  783  786  787  800  802  806  840  841  872  885\n",
      "   906  918  933  954  961  965  968  998  999 1005 1009 1038 1083 1086\n",
      "  1112 1114 1148 1180 1225 1242 1248 1290 1294 1308 1320 1323 1364 1382\n",
      "  1419 1451]\n",
      " [   0    6   29   42   55   56   59   72   84   90   96  116  127  130\n",
      "   143  152  154  158  159  163  187  210  218  265  269  282  294  328\n",
      "   339  392  395  401  402  416  447  484  530  541  548  567  571  610\n",
      "   612  650  658  678  712  715  717  740  756  783  788  789  804  809\n",
      "   812  831  836  842  867  930  941  962  970  981  984 1003 1026 1030\n",
      "  1035 1041 1045 1057 1068 1084 1089 1095 1099 1106 1136 1158 1165 1194\n",
      "  1224 1237 1266 1304 1317 1318 1340 1358 1360 1361 1418 1422 1444 1451\n",
      "  1459 1468]\n",
      " [  15   55  107  112  123  127  130  144  151  164  166  170  178  181\n",
      "   232  256  257  261  263  273  279  290  329  332  335  337  343  405\n",
      "   425  429  462  485  519  547  557  569  581  592  619  620  629  660\n",
      "   664  675  676  684  693  698  705  706  713  740  759  766  772  836\n",
      "   844  868  875  882  885  888  931  948  962  967  970  974  978  982\n",
      "   993 1010 1022 1024 1069 1080 1081 1118 1121 1130 1144 1159 1160 1162\n",
      "  1195 1196 1242 1251 1261 1287 1318 1323 1339 1345 1347 1367 1381 1395\n",
      "  1404 1457]\n",
      " [  18   20   43   44   55   63   71   72   75  102  106  109  174  183\n",
      "   187  189  200  215  221  251  274  277  278  306  323  330  338  367\n",
      "   376  379  380  388  394  459  466  498  506  519  558  563  572  574\n",
      "   593  595  611  617  625  630  637  640  646  651  691  701  721  797\n",
      "   808  833  842  884  896  901  985 1026 1034 1044 1057 1065 1067 1074\n",
      "  1092 1103 1130 1133 1143 1153 1156 1158 1162 1195 1210 1220 1234 1241\n",
      "  1303 1319 1326 1338 1350 1357 1373 1375 1410 1417 1435 1453 1457 1460\n",
      "  1461 1467]\n",
      " [  18   23   31   33   45   67   70   71   76   83  111  126  134  195\n",
      "   198  204  211  221  227  247  250  253  272  275  296  325  334  365\n",
      "   386  397  417  429  449  454  462  488  508  521  532  537  549  575\n",
      "   577  594  595  596  603  607  679  717  749  764  771  810  817  826\n",
      "   839  841  843  848  852  855  870  875  967  982 1012 1016 1051 1054\n",
      "  1110 1120 1148 1202 1215 1256 1265 1278 1284 1288 1290 1291 1293 1298\n",
      "  1314 1326 1327 1334 1338 1349 1359 1373 1375 1378 1392 1393 1414 1425\n",
      "  1446 1458]\n",
      " [  16   52   59   72   75   99  100  116  118  123  124  128  132  133\n",
      "   137  166  176  218  220  282  287  294  296  333  373  388  399  407\n",
      "   408  457  467  470  486  499  509  514  525  528  539  562  571  579\n",
      "   608  615  624  637  639  648  654  667  677  689  706  715  749  757\n",
      "   761  773  784  793  822  824  849  853  855  864  868  881  887  931\n",
      "   959  960  968  973  975 1031 1041 1054 1087 1107 1114 1129 1156 1162\n",
      "  1188 1211 1227 1235 1268 1309 1325 1334 1368 1378 1384 1395 1402 1421\n",
      "  1430 1453]\n",
      " [  18   35   86   95  102  112  134  136  142  152  157  166  183  186\n",
      "   237  240  256  284  289  290  301  329  360  367  380  400  418  449\n",
      "   457  466  467  468  475  488  490  491  495  496  512  516  517  568\n",
      "   571  577  579  601  623  629  663  667  672  681  695  724  755  763\n",
      "   764  772  794  812  846  851  861  866  871  883  966  975  980  996\n",
      "  1013 1024 1046 1068 1070 1103 1172 1174 1190 1195 1198 1202 1208 1234\n",
      "  1237 1250 1274 1275 1288 1325 1360 1387 1397 1420 1423 1430 1436 1437\n",
      "  1458 1470]\n",
      " [   8   21   99  142  146  198  216  242  250  261  266  267  282  312\n",
      "   318  325  330  342  351  406  428  450  455  467  468  474  481  494\n",
      "   514  517  519  522  528  538  553  573  589  615  626  659  704  711\n",
      "   735  741  756  761  789  791  829  858  862  890  896  902  916  919\n",
      "   925  930  931  939  942  949  981  988  989  992 1033 1038 1068 1084\n",
      "  1106 1125 1128 1141 1158 1167 1172 1175 1178 1181 1183 1184 1222 1248\n",
      "  1277 1299 1309 1310 1318 1324 1335 1342 1351 1409 1410 1418 1422 1428\n",
      "  1456 1472]\n",
      " [   7   24   91  101  111  131  147  177  194  211  217  232  260  273\n",
      "   277  284  301  309  330  363  372  373  391  402  439  450  452  456\n",
      "   464  465  473  502  505  528  560  572  589  614  643  644  709  719\n",
      "   721  736  737  761  798  809  820  838  846  860  879  880  881  883\n",
      "   891  924  930  956  973  978  991 1011 1023 1035 1102 1134 1147 1157\n",
      "  1178 1179 1184 1194 1205 1209 1230 1253 1269 1272 1286 1290 1301 1309\n",
      "  1315 1317 1328 1332 1343 1383 1408 1414 1419 1425 1428 1436 1440 1450\n",
      "  1454 1465]]\n"
     ]
    }
   ],
   "source": [
    "\"\"\" if os.path.exists(yobs_filename):\n",
    "    print(f\"iYobs read from file {yobs_filename}\")\n",
    "    iYobs_fine = np.load(yobs_filename)\n",
    "    if iYobs_fine.shape[0] < num_trials:\n",
    "        print(\"iYobs randomly generated\")\n",
    "        iYobs = rs.choice(Yref.size, NYobs, replace=False)\n",
    "    geom_fine = GeomMRST(geom_fine_filename)\n",
    "else:\n",
    "    print(\"iYobs randomly generated\")\n",
    "    iYobs = rs.choice(Yref.size, NYobs, replace=False)\n",
    "    np.save(yobs_filename, iYobs)\n",
    "\n",
    "iYobs = np.array([geom.cellsContain(geom_fine.cells.centroids.T[iYobs_fine[t]]) for t in range(num_trials)]) \"\"\"\n",
    "\n",
    "if os.path.exists(yobs_filename):\n",
    "    print(f\"iYobs set read from file {yobs_filename}\")\n",
    "    iYobs = np.load(yobs_filename)\n",
    "else:\n",
    "    print(f\"iYobs set randomly generated and saved to {yobs_filename}\")\n",
    "    iYobs = np.array([np.sort(rs.choice(Nc, NYobs, replace=False))\n",
    "                     for _ in range(num_trials)])\n",
    "    np.save(yobs_filename, iYobs)\n",
    "# print(f\"{iYobs.shape=}\")\n",
    "print(iYobs)"
   ]
  },
  {
   "cell_type": "code",
   "execution_count": 9,
   "metadata": {},
   "outputs": [
    {
     "data": {
      "image/png": "[encoded data removed]",
      "text/plain": [
       "<Figure size 288x288 with 1 Axes>"
      ]
     },
     "metadata": {
      "needs_background": "light"
     },
     "output_type": "display_data"
    }
   ],
   "source": [
    "fig, ax = plt.subplots(1, 1, figsize=(4, 4))\n",
    "plot_patch(patches, Yref + Yfac, fig, ax, geom.cells.centroids[:, iYobs[0]], 'Yref', 0, 12)\n",
    "fig.tight_layout()\n",
    "#fig.savefig(f'hanford/figures/Yref_NY={NYobs}_1x_from_4x.pdf', dpi=300)"
   ]
  },
  {
   "cell_type": "code",
   "execution_count": 10,
   "metadata": {
    "tags": []
   },
   "outputs": [
    {
     "name": "stdout",
     "output_type": "stream",
     "text": [
      "NY=100_Nu=323_NYlearn=100_NYxi=1000_gamma=1e-06_cond_cklmap_h1reg_amps=True_Yref=RF1\n"
     ]
    }
   ],
   "source": [
    "exp = f'NY={NYobs}_Nu={iuobs.size}_{NYlearn=}_{NYxi=}_gamma={gamma_map}_{(\"cond\" if conditional else \"uncond\")}_cklmap_h1reg_{amps=}_{ref}'\n",
    "print(exp)"
   ]
  },
  {
   "cell_type": "code",
   "execution_count": 11,
   "metadata": {},
   "outputs": [],
   "source": [
    "timings = np.zeros((num_trials, 6))\n",
    "nfevs = np.zeros((num_trials, 3), dtype=int)\n",
    "rel_errors = np.zeros((num_trials, 4))\n",
    "abs_errors = np.zeros((num_trials, 4))\n",
    "\n",
    "Yobs = np.zeros((num_trials, NYobs))\n",
    "Ypred = np.zeros((num_trials, Nc))\n",
    "CYpred = np.zeros((num_trials, Nc, Nc))\n",
    "umean = np.zeros((num_trials, Nc))\n",
    "Cu = np.zeros((num_trials, Nc, Nc))\n",
    "upred = np.zeros((num_trials, Nc))\n",
    "Cupred = np.zeros((num_trials, Nc, Nc))\n",
    "\n",
    "PsiY = np.zeros((num_trials, Nc, NYxi))\n",
    "LambdaY = np.zeros((num_trials, NYxi))\n",
    "\n",
    "Yest = np.zeros((num_trials, Nc))"
   ]
  },
  {
   "cell_type": "code",
   "execution_count": 12,
   "metadata": {},
   "outputs": [
    {
     "name": "stdout",
     "output_type": "stream",
     "text": [
      "Running L-BFGS-B (Scipy implementation) Code:\n",
      "  runtime   i      f              |g|        \n",
      "    00s00  0000   3.743762e+03           nan \n",
      "    00s03  0005   1.836957e+02   3.551421e+03 \n",
      "    00s06  0010   1.641540e+02   5.877629e+00 \n",
      "    00s08  0013   1.636764e+02   3.506971e-03 \n",
      "    00s10  0017   1.636762e+02   4.396709e-09 \n",
      "Runtime:     00s10\n",
      "Optimization status: Converged\n",
      "\n",
      "GPR: [0.46224748] s\n"
     ]
    }
   ],
   "source": [
    "\"\"\" for t in range(num_trials):\n",
    "    Yobs[t] = Yref[iYobs[t]]\n",
    "\n",
    "    ts = perf_counter()\n",
    "    klearn = GPy.kern.sde_Matern52(input_dim=2, variance=std_dev_ref**2, lengthscale=cor_len_ref)\n",
    "    mYlearn = GPy.models.GPRegression(geom.cells.centroids[:, iYobs[t]].T, Yobs[t, :, None], klearn, noise_var=np.sqrt(np.finfo(float).eps))\n",
    "    mYlearn.optimize(messages=True, ipython_notebook=False)\n",
    "    mYref = GPy.models.GPRegression(geom.cells.centroids[:, iYobs[t]].T, Yobs[t, :, None], mYlearn.kern, noise_var=np.sqrt(np.finfo(float).eps))\n",
    "    Ypred[t], CYpred[t] = (lambda x, y : (x.ravel(), y))(*mYref.predict_noiseless(geom.cells.centroids.T, full_cov=True))\n",
    "    timings[t, 0] = perf_counter() - ts\n",
    "\n",
    "print(f\"GPR: {timings[:, 0]} s\") \"\"\"\n",
    "\n",
    "for t in trial_range:\n",
    "    iYlearn = iYobs[t]\n",
    "    Ylearn = Yref[iYlearn]\n",
    "    Yobs[t] = Yref[iYobs[t]]\n",
    "\n",
    "    ts = perf_counter()\n",
    "\n",
    "    mflearn = GPy.mappings.Constant(2, 1, value=1)\n",
    "    klearn = GPy.kern.sde_Matern52(\n",
    "        input_dim=2, variance=std_dev_ref**2, lengthscale=cor_len_ref)\n",
    "    mYlearn = GPy.models.GPRegression(\n",
    "        geom.cells.centroids[:, iYlearn].T, Ylearn[:, None],\n",
    "        klearn, noise_var=np.sqrt(np.finfo(float).eps),\n",
    "        mean_function=mflearn)\n",
    "    mYlearn.optimize(messages=True, ipython_notebook=False)\n",
    "\n",
    "    if conditional:\n",
    "        mYref = GPy.models.GPRegression(\n",
    "            geom.cells.centroids[:, iYobs[t]].T, Yobs[t, :, None],\n",
    "            mYlearn.kern, noise_var=np.sqrt(np.finfo(float).eps),\n",
    "            mean_function=mYlearn.constmap)\n",
    "        Ypred[t], CYpred[t] = (lambda x, y: (x.ravel(), y))(\n",
    "            *mYref.predict_noiseless(geom.cells.centroids.T, full_cov=True))\n",
    "    else:\n",
    "        Ypred[t] = mYlearn.constmap.C.values[0] * np.ones_like(Yref)\n",
    "        CYpred[t] = mYlearn.kern.K(geom.cells.centroids.T)\n",
    "    timings[t, 0] = perf_counter() - ts\n",
    "\n",
    "print(f\"GPR: {timings[:, 0]} s\")\n"
   ]
  },
  {
   "cell_type": "code",
   "execution_count": 13,
   "metadata": {},
   "outputs": [
    {
     "name": "stdout",
     "output_type": "stream",
     "text": [
      "[ 0.16545891 -0.14847811 -0.2268939  ...  1.87921178  2.33603422\n",
      "  2.52019831]\n"
     ]
    }
   ],
   "source": [
    "print(Yref)\n"
   ]
  },
  {
   "cell_type": "code",
   "execution_count": 14,
   "metadata": {},
   "outputs": [
    {
     "name": "stdout",
     "output_type": "stream",
     "text": [
      "[ 0.35102765  0.15573576 -0.17271289 ...  2.35674453  2.23340942\n",
      "  2.24964022]\n"
     ]
    }
   ],
   "source": [
    "print(Ypred[0])"
   ]
  },
  {
   "cell_type": "code",
   "execution_count": 15,
   "metadata": {},
   "outputs": [
    {
     "name": "stdout",
     "output_type": "stream",
     "text": [
      "GPR\tRelative error: [0.13026042]\n",
      "GPR\tInfinity error: [4.71068738]\n"
     ]
    }
   ],
   "source": [
    "Ym = Ypred\n",
    "CYm = CYpred\n",
    "\n",
    "rel_errors[:, 0] = np.array([rl2e(Ym[t], Yref) for t in range(num_trials)])\n",
    "abs_errors[:, 0] = np.array([infe(Ym[t], Yref) for t in range(num_trials)])\n",
    "\n",
    "print(f\"GPR\\tRelative error: {rel_errors[:, 0]}\")\n",
    "print(f\"GPR\\tInfinity error: {abs_errors[:, 0]}\")"
   ]
  },
  {
   "cell_type": "code",
   "execution_count": 16,
   "metadata": {},
   "outputs": [
    {
     "name": "stdout",
     "output_type": "stream",
     "text": [
      "rtolY=0.0026198763909303377\n"
     ]
    }
   ],
   "source": [
    "PsiY_all, LambdaY_all = ckliest.KL_via_eigh(CYm[0], Nc)\n",
    "rtolY = LambdaY_all[NYxi:].sum() / LambdaY_all.sum()\n",
    "print(f'{rtolY=}')\n"
   ]
  },
  {
   "cell_type": "code",
   "execution_count": 17,
   "metadata": {},
   "outputs": [
    {
     "name": "stdout",
     "output_type": "stream",
     "text": [
      "Monte Carlo: [12.13480871] s\n"
     ]
    }
   ],
   "source": [
    "for t in trial_range:\n",
    "    ts = perf_counter()\n",
    "    umean[t], Cu[t] = ckliest.smc_gp(Ypred[t], CYpred[t], Nens, prob, rs)\n",
    "    upred[t], Cupred[t] = ckliest.gpr(umean[t], Cu[t], uobs, iuobs)\n",
    "    timings[t, 1] = perf_counter() - ts\n",
    "\n",
    "print(f\"Monte Carlo: {timings[:, 1]} s\")\n"
   ]
  },
  {
   "cell_type": "code",
   "execution_count": 18,
   "metadata": {},
   "outputs": [
    {
     "name": "stdout",
     "output_type": "stream",
     "text": [
      "rtolu=4.287504895299396e-06, rtolY=0.0026198763909303377\n"
     ]
    }
   ],
   "source": [
    "Nuxi = 1000\n",
    "PsiY_all, LambdaY_all = ckliest.KL_via_eigh(CYm[0], Nc)\n",
    "Psiu_all, Lambdau_all = ckliest.KL_via_eigh(Cu[0], Nc)\n",
    "rtolu = Lambdau_all[Nuxi:].sum() / Lambdau_all.sum()\n",
    "rtolY = LambdaY_all[NYxi:].sum() / LambdaY_all.sum()\n",
    "print(f'{rtolu=}, {rtolY=}')"
   ]
  },
  {
   "cell_type": "code",
   "execution_count": 19,
   "metadata": {},
   "outputs": [
    {
     "name": "stdout",
     "output_type": "stream",
     "text": [
      "eigendecomposition: [1.57216683] s\n"
     ]
    }
   ],
   "source": [
    "for t in range(num_trials):\n",
    "    ts = perf_counter()\n",
    "    PsiY[t], LambdaY[t] = ckliest.KL_via_eigh(CYm[t], NYxi)\n",
    "    timings[t, 2] = perf_counter() - ts\n",
    "\n",
    "print(f\"eigendecomposition: {timings[:, 2]} s\")"
   ]
  },
  {
   "cell_type": "code",
   "execution_count": 20,
   "metadata": {},
   "outputs": [],
   "source": [
    "#BA = ba.BA(A1d_iuobs.T, u_pce_eta_arr, NYxi, uobs, gamma_map)"
   ]
  },
  {
   "cell_type": "code",
   "execution_count": 21,
   "metadata": {
    "tags": [
     "outputPrepend"
    ]
   },
   "outputs": [
    {
     "name": "stdout",
     "output_type": "stream",
     "text": [
      "   Iteration     Total nfev        Cost      Cost reduction    Step norm     Optimality   \n",
      "       0              1         2.8208e+02                                    8.41e+01    \n",
      "       1              2         1.1356e+02      1.69e+02       1.00e+00       3.70e+01    \n",
      "       2              3         1.5963e+01      9.76e+01       2.00e+00       5.86e+00    \n",
      "       3              4         1.2846e+00      1.47e+01       4.00e+00       1.33e+00    \n",
      "       4              5         1.8371e-01      1.10e+00       8.00e+00       9.06e-01    \n",
      "       5              6         6.8102e-02      1.16e-01       1.60e+01       1.20e+00    \n",
      "       6              8         3.1974e-03      6.49e-02       4.00e+00       1.75e-01    \n",
      "       7             10         6.5739e-04      2.54e-03       2.00e+00       1.60e-02    \n",
      "       8             12         6.0599e-04      5.14e-05       1.00e+00       9.97e-03    \n",
      "       9             14         5.8840e-04      1.76e-05       5.00e-01       3.29e-03    \n",
      "      10             15         5.8068e-04      7.72e-06       1.00e+00       1.61e-02    \n",
      "      11             16         5.6347e-04      1.72e-05       1.00e+00       1.57e-02    \n",
      "      12             17         5.4682e-04      1.66e-05       1.00e+00       1.35e-02    \n",
      "      13             18         5.3206e-04      1.48e-05       1.00e+00       1.09e-02    \n",
      "      14             19         5.1958e-04      1.25e-05       1.00e+00       8.33e-03    \n",
      "      15             21         5.1124e-04      8.33e-06       5.00e-01       1.78e-03    \n",
      "      16             22         5.0461e-04      6.64e-06       1.00e+00       5.54e-03    \n",
      "      17             23         5.0391e-04      6.94e-07       2.00e+00       1.46e-02    \n",
      "      18             24         4.8573e-04      1.82e-05       5.00e-01       8.21e-04    \n",
      "      19             25         4.8069e-04      5.04e-06       1.00e+00       2.66e-03    \n",
      "      20             26         4.7424e-04      6.45e-06       2.00e+00       6.18e-03    \n",
      "      21             27         4.6442e-04      9.82e-06       2.00e+00       2.49e-03    \n",
      "      22             28         4.5624e-04      8.18e-06       4.00e+00       3.60e-03    \n",
      "      23             29         4.4886e-04      7.38e-06       4.00e+00       7.53e-03    \n",
      "      24             30         4.4401e-04      4.85e-06       4.00e+00       7.15e-03    \n",
      "      25             31         4.4101e-04      2.99e-06       4.00e+00       5.59e-03    \n",
      "      26             32         4.3857e-04      2.44e-06       2.32e+00       2.81e-03    \n",
      "      27             33         4.3796e-04      6.13e-07       7.27e-01       3.59e-04    \n",
      "      28             34         4.3791e-04      5.21e-08       4.10e-01       1.02e-04    \n",
      "      29             35         4.3790e-04      1.16e-08       2.34e-01       2.64e-05    \n",
      "      30             36         4.3789e-04      3.56e-09       1.40e-01       9.34e-06    \n",
      "      31             37         4.3789e-04      1.26e-09       8.39e-02       2.85e-06    \n",
      "      32             38         4.3789e-04      4.73e-10       5.16e-02       1.03e-06    \n",
      "      33             39         4.3789e-04      1.83e-10       3.18e-02       3.19e-07    \n",
      "      34             40         4.3789e-04      7.28e-11       2.01e-02       1.23e-07    \n",
      "      35             41         4.3789e-04      2.98e-11       1.27e-02       6.06e-08    \n",
      "      36             42         4.3789e-04      1.24e-11       8.27e-03       3.49e-08    \n",
      "      37             43         4.3789e-04      5.32e-12       5.34e-03       1.66e-08    \n",
      "      38             44         4.3789e-04      2.31e-12       3.56e-03       8.95e-09    \n",
      "`gtol` termination condition is satisfied.\n",
      "Function evaluations 44, initial cost 2.8208e+02, final cost 4.3789e-04, first-order optimality 8.95e-09.\n",
      "CKL-MAP status: 1, message: `gtol` termination condition is satisfied.\n",
      "CKL-MAP: [33.8306996] s\n",
      "CKL-MAP relative L2 error: [0.07521114]\n",
      "CKL-MAP absolute infinity error: [4.51856548]\n"
     ]
    }
   ],
   "source": [
    "# CKL-MAP H1 estimate\n",
    "Lreg = mapest.compute_Lreg(geom)\n",
    "for t in range(num_trials):\n",
    "    loss = mapest.LossVec(Nc, Nc, iuobs, uobs, iYobs[t], Yobs[t], gamma_map, Lreg) # H1 regularization\n",
    "    if amps:\n",
    "        prob.setup_amps(iuobs)\n",
    "        dasa = DASAExpKLAMPS(prob.partial_solve, loss.val, loss.grad_u, loss.grad_Y, prob.residual_sens_u, prob.residual_sens_Y, prob.u_sens_p, (Nuobs + NYobs + Ninf, NYxi), Nuobs, Ym[t], PsiY[t])\n",
    "    else:\n",
    "        dasa = DASAExpKL(prob.solve, loss.val, loss.grad_u, loss.grad_Y, prob.residual_sens_u,\n",
    "                         prob.residual_sens_Y, (Nuobs + NYobs + Ninf, NYxi), Nuobs, Ym[t], PsiY[t], prob.adj_solve)\n",
    "    ts = perf_counter()\n",
    "    sol = spo.least_squares(dasa.obj, np.zeros(NYxi), jac=dasa.grad, method=lsq_method, verbose=2)\n",
    "    Yest[t] = Ym[t] + PsiY[t] @ sol.x\n",
    "    MAP_status = sol.status\n",
    "    timings[t, 4] = perf_counter() - ts\n",
    "    nfevs[t, 1] = sol.nfev\n",
    "    print(f'CKL-MAP status: {MAP_status}, message: {sol.message}')\n",
    "\n",
    "rel_errors[:, 2] = np.array([rl2e(Yest[t], Yref) for t in range(num_trials)])\n",
    "abs_errors[:, 2] = np.array([infe(Yest[t], Yref) for t in range(num_trials)])\n",
    "\n",
    "print(f\"CKL-MAP: {timings[:, 4]} s\")\n",
    "print(f\"CKL-MAP relative L2 error: {rel_errors[:, 2]}\")\n",
    "print(f\"CKL-MAP absolute infinity error: {abs_errors[:, 2]}\")\n"
   ]
  },
  {
   "cell_type": "code",
   "execution_count": 17,
   "metadata": {},
   "outputs": [],
   "source": [
    "if draw_graph_pdf:\n",
    "    plt.rcParams['lines.linewidth'] = 1\n",
    "    fig, ax = plt.subplots(figsize=(6, 6))\n",
    "    ax.plot(*geom.nodes.coords[:, geom.faces.nodes[:, geom.faces.num_interior:]], '#228b22')\n",
    "    if prob.amps is not None and prob.amps.L is not None:\n",
    "        centroids = geom.cells.centroids.T[prob.amps.P]\n",
    "        ax.plot(*centroids[-1], '*-', c='gray', mfc='black', mec='none', ms='6', label='directed tree $G(L)$ and its root', zorder=2)\n",
    "        first_nonclosure = False\n",
    "        first_closure = False\n",
    "        p = np.zeros((2, 2))\n",
    "        for j in range(Nc-1):\n",
    "            color = 'black' if np.all(prob.amps.closure_right_jac[j, (0, 20)]) else \\\n",
    "                    'red' if prob.amps.closure_right_jac[j, 0] else \\\n",
    "                    'blue' if prob.amps.closure_right_jac[j, 20] else 'gray'\n",
    "            p[:, 0] = centroids[j]\n",
    "            p[:, 1] = centroids[prob.amps.L.indices[prob.amps.L.indptr[j]+1]]\n",
    "            line, = ax.plot(*p, color=color, zorder=1)\n",
    "            if not first_closure and np.all(prob.amps.closure_right_jac[j, (0, 20)]):\n",
    "                line.set_label('common closure')\n",
    "                first_closure = True\n",
    "            if not first_nonclosure and not np.any(prob.amps.closure_right_jac[j, (0, 20)]):\n",
    "                #line.set_label('$G(L)$')\n",
    "                ax.plot(\n",
    "                    *centroids[np.flatnonzero(prob.amps.closure_right_jac[:, 0])[0]], 'ro-', ms='3', label='closure 1', zorder=2)\n",
    "                ax.plot(\n",
    "                    *centroids[np.flatnonzero(prob.amps.closure_right_jac[:, 20])[0]], 'bo-', ms='3', label='closure 2', zorder=2)\n",
    "                first_nonclosure = True\n",
    "    ax.set_aspect('equal')\n",
    "    ax.axis('off')\n",
    "    ax.legend(loc='lower left', frameon=False, prop={'size': 10})\n",
    "    fig.tight_layout()\n",
    "    figures_path = '../figures/'\n",
    "    fig.savefig(figures_path +\n",
    "                f'closure_{exp}.pdf', dpi=1200, bbox_inches='tight')\n"
   ]
  },
  {
   "cell_type": "code",
   "execution_count": 18,
   "metadata": {},
   "outputs": [],
   "source": [
    "if draw_field:\n",
    "    hex_colors = np.array([colors.to_hex(cm.get_cmap('jet')(colors.Normalize(0, 12)(Yref + Yfac))[t]) for t in range(Nc)])\n",
    "    vertices = np.around(geom.nodes.coords.T[geom.cells.nodes.T, :], 4)\n",
    "\n",
    "    d = draw.Drawing(1, 1)\n",
    "    d.setRenderSize(1000, 1000)\n",
    "    g = draw.Group(stroke_width=0.001, stroke='black')\n",
    "    g.append(draw.Animate('fill-opacity', '4s', '0; 0; 1', keyTimes=\"0; 0.5; 1\", fill='remove', id='seq_0'))\n",
    "    g.append(draw.Animate('stroke-opacity', '2s', to='0', begin='2s', fill='freeze'))\n",
    "    n, m = vertices.shape[:-1]\n",
    "    v = np.empty((m + 1, m + 1), dtype=object)\n",
    "    for j in range(n):\n",
    "        p = draw.Path(fill=hex_colors[j]).M(*vertices[j, 0, :])\n",
    "        v[:-1, 0] = np.repeat('M{},-{}'.format(*vertices[j, 0, :]), m)\n",
    "        for i in range(1, m):\n",
    "            p.L(*vertices[j, i, :])\n",
    "            for k in range(i):\n",
    "                v[k, i] = ' L{},-{}'.format(*vertices[j, k, :])\n",
    "            for k in range(i, m):\n",
    "                v[k, i] = ' L{},-{}'.format(*vertices[j, i, :])\n",
    "        for k in range(m):\n",
    "            v[k, m] = ' L{},-{}'.format(*vertices[j, k, :])\n",
    "            v[m, k] = v[m - 1, k]\n",
    "        v[m, m] = ' L{},-{}'.format(*vertices[j, 0, :])\n",
    "        p.appendAnim(draw.Animate('d', '2s', ';\\n'.join([''.join(r) for r in v]), fill='remove'))\n",
    "        g.append(p.Z())\n",
    "    d.append(g)\n",
    "\n",
    "    #arrow_head = draw.Marker(-0.5, -0.5, 0.5, 0.5, scale=5, orient='auto')\n",
    "    #arrow_head.append(draw.Lines(-0.5, -0.5, -0.5, 0.5, 0.5, 0, fill='blue', close=True))\n",
    "    if prob.amps is not None and prob.amps.L is not None:\n",
    "        centroids = np.around(geom.cells.centroids.T, 4)[prob.amps.P]\n",
    "        obs_points = prob.amps.inz_left[prob.amps.P]\n",
    "        g = draw.Group(stroke_width=0.001, fill='none')\n",
    "        for j in range(Nc-1):\n",
    "        #for j in range(prob.amps.new_to_old_left[1]+1):\n",
    "            color = 'black' if prob.amps.closure_left[j] else 'gray'\n",
    "            p1 = centroids[j]\n",
    "            p2 = centroids[prob.amps.L.indices[prob.amps.L.indptr[j]+1]]\n",
    "            l = draw.Line(*p1, *p2, stroke=color, stroke_opacity=0)\n",
    "            l.appendAnim(draw.Animate('d', '0.1s', 'M{0},-{1} L{0},-{1};M{0},-{1} L{2},-{3}'.format(*p1, *p2), fill='remove', id=f'seq_{j+1}', begin='4s' if j == 0 else f'seq_{j}.end'))\n",
    "            l.appendAnim(draw.Set('stroke-opacity', 'indefinite', to=1, begin='4s' if j == 0 else f'seq_{j}.end'))\n",
    "            g.append(l)\n",
    "            if obs_points[j]:\n",
    "                c = draw.Circle(*centroids[j], 0.002, fill='black', opacity=0)\n",
    "                c.appendAnim(draw.Set('opacity', 'indefinite', to=1, begin='4s' if j == 0 else f'seq_{j}.end'))\n",
    "                g.append(c)\n",
    "        d.append(g)\n",
    "        d.append(draw.Circle(*centroids[-1], 0.002, fill='gray'))\n",
    "\n",
    "    d.saveSvg(results_path + 'hanford.svg')"
   ]
  },
  {
   "cell_type": "code",
   "execution_count": 19,
   "metadata": {},
   "outputs": [],
   "source": [
    "np.savetxt(results_path + f'iYobs/iYobs_{exp}.txt', iYobs.astype(int), fmt='%i')\n",
    "np.savetxt(results_path + f'timings/timings_{exp}.txt', timings)\n",
    "np.savetxt(results_path + f'nfevs/nfevs_{exp}.txt', nfevs.astype(int), fmt='%i')\n",
    "np.savetxt(results_path + f'rel_errors/rel_errors_{exp}.txt', rel_errors)\n",
    "np.savetxt(results_path + f'abs_errors/abs_errors_{exp}.txt', abs_errors)\n",
    "np.savetxt(results_path + f'YGPR/YGPR_{exp}.txt', Yref)\n",
    "np.savetxt(results_path + f'YMAP/YMAP_{exp}.txt', Yest)"
   ]
  },
  {
   "cell_type": "code",
   "execution_count": null,
   "metadata": {},
   "outputs": [],
   "source": []
  }
 ],
 "metadata": {
  "kernelspec": {
   "display_name": "Python 3.8.2 64-bit",
   "language": "python",
   "name": "python3"
  },
  "language_info": {
   "codemirror_mode": {
    "name": "ipython",
    "version": 3
   },
   "file_extension": ".py",
   "mimetype": "text/x-python",
   "name": "python",
   "nbconvert_exporter": "python",
   "pygments_lexer": "ipython3",
   "version": "3.8.2 (default, Aug 25 2020, 09:23:57) \n[Clang 12.0.0 (clang-1200.0.32.2)]"
  },
  "metadata": {
   "interpreter": {
    "hash": "aee8b7b246df8f9039afb4144a1f6fd8d2ca17a180786b69acc140d282b71a49"
   }
  },
  "vscode": {
   "interpreter": {
    "hash": "31f2aee4e71d21fbe5cf8b01ff0e069b9275f58929596ceb00d14d90e3e16cd6"
   }
  }
 },
 "nbformat": 4,
 "nbformat_minor": 4
}
