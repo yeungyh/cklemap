{
 "cells": [
  {
   "cell_type": "code",
   "execution_count": 1,
   "metadata": {},
   "outputs": [],
   "source": [
    "import paths\n",
    "import yaml\n",
    "import os\n",
    "import copy\n",
    "import h5py\n",
    "import GPy\n",
    "import numpy as np\n",
    "import numpy.random as npr\n",
    "import scipy.optimize as spo\n",
    "import scipy.linalg as spl\n",
    "from matplotlib import pyplot as plt, collections as mc, patches as mpatches, cm, ticker, colors\n",
    "from cklemap.sdfs.geom_mrst import GeomMRST\n",
    "from cklemap.sdfs.bc_mrst import BCMRST\n",
    "from cklemap.sdfs.tpfa import TPFA\n",
    "from time import perf_counter\n",
    "import cklemap.ckli.ckliest_h1reg as ckliest\n",
    "from cklemap.sdfs.darcy import DarcyExp\n",
    "from cklemap.sdfs.dasa import DASAExpLM, DASAExpLMAMPS\n",
    "import cklemap.ckli.mapest as mapest"
   ]
  },
  {
   "cell_type": "code",
   "execution_count": 2,
   "metadata": {},
   "outputs": [],
   "source": [
    "plt.rc('text', usetex=True)\n",
    "plt.rc('image', cmap='plasma')\n",
    "\n",
    "def plot_patch(patches, values, fig, ax, points, title, cmin=None, cmax=None, cb=False):\n",
    "    p = mc.PatchCollection(patches, cmap=cm.jet)\n",
    "    p.set_array(values)\n",
    "    p.set_clim([cmin, cmax])\n",
    "    ax.add_collection(p)\n",
    "    if points is not None:\n",
    "        ax.plot(*points, 'ko', markersize=0.5)\n",
    "    ax.set_aspect('equal')\n",
    "    ax.axis('off')\n",
    "    ax.autoscale(tight=True)\n",
    "    #ax.set_title(title)\n",
    "    if cb:\n",
    "        fig.colorbar(p, ax=ax)\n",
    "    return p"
   ]
  },
  {
   "cell_type": "code",
   "execution_count": 3,
   "metadata": {},
   "outputs": [],
   "source": [
    "amps = True\n",
    "res_fac = 1\n",
    "resolution = '1x'\n",
    "resolution_iYobs = '4x'\n",
    "num_trials = 1\n",
    "seed = 0\n",
    "#Nuobs = 50\n",
    "NYobs = 100\n",
    "NYlearn = NYobs\n",
    "NYrefobs = 50\n",
    "NYxi = 1000\n",
    "Nuxi = 1000\n",
    "Nens = 5000\n",
    "beta_ckli = 1e1\n",
    "Ygamma_ckli = 1e-4\n",
    "ugamma_ckli = 1e-4\n",
    "gamma_map = 1e-6\n",
    "std_dev_ref = 1.0\n",
    "cor_len_ref = 0.1\n",
    "Neumann_sd = 0\n",
    "lsq_method = 'trf'\n",
    "run_PICKLE = True\n",
    "data_path = '../data/'\n",
    "results_path = '../results/'\n",
    "figures_path = '../figures/'\n",
    "geom_filename = data_path + f'geom/geom_{resolution}.mat'\n",
    "geom_fine_filename = data_path + f'geom/geom_{resolution_iYobs}.mat'\n",
    "bc_filename = data_path + f'bc/bc_{resolution}.mat'\n",
    "conduct_filename = data_path + f'yref/conduct_log_RF1_{resolution}.mat'\n",
    "well_cells_filename = data_path + f'well_cells/well_cells_{resolution}.mat'\n",
    "yobs_filename = data_path + f'yobs/yobs_{NYobs}_{resolution_iYobs}.npy'\n",
    "ref = \"Yref=RF1\""
   ]
  },
  {
   "cell_type": "code",
   "execution_count": 4,
   "metadata": {},
   "outputs": [],
   "source": [
    "Yfac = 7.0 # Rescaling factor for log-conductivity. Must be applied to Yref and the BCs\n",
    "\n",
    "geom = GeomMRST(geom_filename)\n",
    "bc = BCMRST(geom, bc_filename)\n",
    "bc.rescale('N', Yfac)\n",
    "\n",
    "with h5py.File(conduct_filename, 'r') as f:\n",
    "    Yref = f.get('conduct_log')[:].ravel() - Yfac"
   ]
  },
  {
   "cell_type": "code",
   "execution_count": 5,
   "metadata": {},
   "outputs": [],
   "source": [
    "patches = [mpatches.Polygon(v, closed=True) for v in geom.nodes.coords.T[geom.cells.nodes.T, :]]"
   ]
  },
  {
   "cell_type": "code",
   "execution_count": 6,
   "metadata": {
    "tags": []
   },
   "outputs": [],
   "source": [
    "# Observations\n",
    "rs = npr.RandomState(seed)\n",
    "Nc = geom.cells.num\n",
    "Ninf = geom.faces.num_interior\n",
    "\n",
    "# u observations\n",
    "with h5py.File(well_cells_filename, 'r') as f:\n",
    "    iuobs = f.get('well_cells')[:].ravel() - 1\n",
    "\n",
    "prob = DarcyExp(TPFA(geom, bc), iuobs, amps)\n",
    "uref = prob.solve(Yref)\n",
    "uobs = uref[iuobs]\n",
    "Nuobs = iuobs.size"
   ]
  },
  {
   "cell_type": "code",
   "execution_count": 7,
   "metadata": {},
   "outputs": [],
   "source": [
    "rl2e = lambda yest, yref : spl.norm(yest - yref, 2) / spl.norm(yref + Yfac, 2)\n",
    "infe = lambda yest, yref : spl.norm(yest - yref, np.inf)"
   ]
  },
  {
   "cell_type": "code",
   "execution_count": 8,
   "metadata": {},
   "outputs": [
    {
     "name": "stdout",
     "output_type": "stream",
     "text": [
      "iYobs read from file ../data/yobs/yobs_100_4x.npy\n",
      "(10, 100)\n",
      "iYobs.shape=(1, 100)\n",
      "[[   4   14   31   34   52   53   54   82   89  122  141  142  148  152\n",
      "   187  191  192  218  231  254  260  278  302  315  322  326  333  342\n",
      "   347  361  362  364  376  408  420  427  431  434  438  446  458  465\n",
      "   481  483  487  529  535  536  554  558  587  597  620  651  667  674\n",
      "   737  758  761  838  847  853  857  863  884  897  900  930  942  961\n",
      "  1001 1003 1030 1031 1054 1061 1069 1081 1095 1114 1122 1126 1131 1157\n",
      "  1164 1175 1178 1187 1239 1270 1280 1285 1305 1338 1347 1352 1402 1438\n",
      "  1444 1465]]\n"
     ]
    }
   ],
   "source": [
    "if os.path.exists(yobs_filename):\n",
    "    print(f\"iYobs read from file {yobs_filename}\")\n",
    "    iYobs_fine = np.load(yobs_filename)\n",
    "    print(iYobs_fine.shape)\n",
    "    geom_fine = GeomMRST(geom_fine_filename)\n",
    "    iYobs = np.array([geom.cellsContain(geom_fine.cells.centroids.T[iYobs_fine[t]]) for t in range(num_trials)])\n",
    "else:\n",
    "    print(f\"iYobs set randomly generated and saved to {yobs_filename}\")\n",
    "    iYobs = np.array([np.sort(rs.choice(Nc, NYobs, replace=False)) for _ in range(num_trials)])\n",
    "    np.save(yobs_filename, iYobs)\n",
    "print(f\"{iYobs.shape=}\")\n",
    "print(iYobs)"
   ]
  },
  {
   "cell_type": "code",
   "execution_count": 9,
   "metadata": {},
   "outputs": [
    {
     "data": {
      "image/png": "[encoded data removed]",
      "text/plain": [
       "<Figure size 288x288 with 1 Axes>"
      ]
     },
     "metadata": {
      "needs_background": "light"
     },
     "output_type": "display_data"
    }
   ],
   "source": [
    "fig, ax = plt.subplots(1, 1, figsize=(4, 4))\n",
    "plot_patch(patches, Yref + Yfac, fig, ax, geom.cells.centroids[:, iYobs[0]], 'Yref', 0, 12)\n",
    "fig.tight_layout()\n",
    "fig.savefig(figures_path + f'Yref/Yref_NY={NYobs}_1x_from_4x.pdf', dpi=300)"
   ]
  },
  {
   "cell_type": "code",
   "execution_count": 10,
   "metadata": {
    "tags": []
   },
   "outputs": [
    {
     "name": "stdout",
     "output_type": "stream",
     "text": [
      "NY=100_Nu=323_NYlearn=100_gamma=1e-06_lsq_method='trf'_h1reg_amps=True_Yref=RF1\n"
     ]
    }
   ],
   "source": [
    "exp = f'NY={NYobs}_Nu={iuobs.size}_{NYlearn=}_gamma={gamma_map}_{lsq_method=}_h1reg_{amps=}_{ref}'\n",
    "print(exp)\n",
    "\n",
    "timings = np.zeros((num_trials, 6))\n",
    "nfevs = np.zeros((num_trials, 3), dtype=int)\n",
    "rel_errors = np.zeros((num_trials, 4))\n",
    "abs_errors = np.zeros((num_trials, 4))\n",
    "solve_time = np.zeros((num_trials))\n",
    "obj_time = np.zeros((num_trials))\n",
    "jac_time = np.zeros((num_trials))\n",
    "\n",
    "Yobs = np.zeros((num_trials, NYobs))\n",
    "Ypred = np.zeros((num_trials, Nc))\n",
    "CYpred = np.zeros((num_trials, Nc, Nc))\n",
    "umean = np.zeros((num_trials, Nc))\n",
    "Cu = np.zeros((num_trials, Nc, Nc))\n",
    "upred = np.zeros((num_trials, Nc))\n",
    "Cupred = np.zeros((num_trials, Nc, Nc))\n",
    "\n",
    "PsiY = np.zeros((num_trials, Nc, NYxi))\n",
    "LambdaY = np.zeros((num_trials, NYxi))\n",
    "Psiu = np.zeros((num_trials, Nc, Nuxi))\n",
    "Lambdau = np.zeros((num_trials, Nuxi))\n",
    "\n",
    "uxi = np.zeros((num_trials, Nuxi))\n",
    "Yxi = np.zeros((num_trials, NYxi))\n",
    "uest = np.zeros((num_trials, Nc))\n",
    "Yest = np.zeros((num_trials, Nc))\n",
    "Yest_MAPH1 = np.zeros((num_trials, Nc))\n",
    "if Neumann_sd != 0:\n",
    "    Nq = np.count_nonzero(bc.kind == 'N')\n",
    "    q_MAPH1 = np.zeros((num_trials, Nq))"
   ]
  },
  {
   "cell_type": "code",
   "execution_count": 11,
   "metadata": {},
   "outputs": [
    {
     "name": "stdout",
     "output_type": "stream",
     "text": [
      "Running L-BFGS-B (Scipy implementation) Code:\n",
      "  runtime   i      f              |g|        \n",
      "    00s03  0006   1.899926e+02   1.109159e+03 \n",
      "    00s06  0012   1.684233e+02   1.873149e+00 \n",
      "    00s09  0016   1.683999e+02   7.452364e-08 \n",
      "    00s09  0017   1.683999e+02   7.452364e-08 \n",
      "Runtime:     00s09\n",
      "Optimization status: Converged\n",
      "\n",
      "0.03511207825411311\n",
      "GPR: [0.41182513] s\n"
     ]
    }
   ],
   "source": [
    "for t in range(num_trials):\n",
    "    iYlearn = iYobs[t]\n",
    "    Ylearn = Yref[iYlearn]\n",
    "    Yobs[t] = Yref[iYobs[t]]\n",
    "\n",
    "    ts = perf_counter()\n",
    "    klearn = GPy.kern.sde_Matern52(input_dim=2, variance=std_dev_ref**2, lengthscale=cor_len_ref)\n",
    "    mYlearn = GPy.models.GPRegression(geom.cells.centroids[:, iYlearn].T, Ylearn[:, None], klearn, noise_var=np.sqrt(np.finfo(float).eps))\n",
    "    mYlearn.optimize(messages=True, ipython_notebook=False)\n",
    "    print(f'{klearn.lengthscale.values[0]}')\n",
    "\n",
    "    mYref = GPy.models.GPRegression(geom.cells.centroids[:, iYobs[t]].T, Yobs[t, :, None], mYlearn.kern, noise_var=np.sqrt(np.finfo(float).eps))\n",
    "    Ypred[t], CYpred[t] = (lambda x, y : (x.ravel(), y))(*mYref.predict_noiseless(geom.cells.centroids.T, full_cov=True))\n",
    "    timings[t, 0] = perf_counter() - ts\n",
    "\n",
    "print(f\"GPR: {timings[:, 0]} s\")"
   ]
  },
  {
   "cell_type": "code",
   "execution_count": 12,
   "metadata": {},
   "outputs": [
    {
     "name": "stdout",
     "output_type": "stream",
     "text": [
      "Monte Carlo: [14.69052116] s\n"
     ]
    }
   ],
   "source": [
    "if run_PICKLE:\n",
    "    for t in range(num_trials):\n",
    "        ts = perf_counter()\n",
    "        umean[t], Cu[t] = ckliest.smc_gp(Ypred[t], CYpred[t], Nens, prob, rs, randomize_bc=True, randomize_scale=Neumann_sd)\n",
    "        upred[t], Cupred[t] = ckliest.gpr(umean[t], Cu[t], uobs, iuobs)\n",
    "        timings[t, 1] = perf_counter() - ts\n",
    "\n",
    "    print(f\"Monte Carlo: {timings[:, 1]} s\")"
   ]
  },
  {
   "cell_type": "code",
   "execution_count": 13,
   "metadata": {},
   "outputs": [
    {
     "name": "stdout",
     "output_type": "stream",
     "text": [
      "GPR\tRelative error: [0.12574837]\n",
      "GPR\tInfinity error: [4.49993274]\n"
     ]
    }
   ],
   "source": [
    "if run_PICKLE:\n",
    "    Ym = Ypred\n",
    "    CYm = CYpred\n",
    "    um = umean #or change to upred\n",
    "    Cum = Cu #or change to Cupred\n",
    "\n",
    "    rel_errors[:, 0] = np.array([rl2e(Ym[t], Yref) for t in range(num_trials)])\n",
    "    abs_errors[:, 0] = np.array([infe(Ym[t], Yref) for t in range(num_trials)])\n",
    "\n",
    "    print(f\"GPR\\tRelative error: {rel_errors[:, 0]}\")\n",
    "    print(f\"GPR\\tInfinity error: {abs_errors[:, 0]}\")"
   ]
  },
  {
   "cell_type": "code",
   "execution_count": 14,
   "metadata": {},
   "outputs": [
    {
     "name": "stdout",
     "output_type": "stream",
     "text": [
      "eigendecomposition: [3.19349676] s\n"
     ]
    }
   ],
   "source": [
    "if run_PICKLE:\n",
    "    for t in range(num_trials):\n",
    "        ts = perf_counter()\n",
    "        PsiY[t], LambdaY[t] = ckliest.KL_via_eigh(CYm[t], NYxi)\n",
    "        Psiu[t], Lambdau[t] = ckliest.KL_via_eigh(Cum[t], Nuxi)\n",
    "        timings[t, 2] = perf_counter() - ts\n",
    "\n",
    "    print(f\"eigendecomposition: {timings[:, 2]} s\")"
   ]
  },
  {
   "cell_type": "code",
   "execution_count": 15,
   "metadata": {
    "tags": []
   },
   "outputs": [
    {
     "name": "stdout",
     "output_type": "stream",
     "text": [
      "   Iteration     Total nfev        Cost      Cost reduction    Step norm     Optimality   \n",
      "       0              1         2.4122e+03                                    1.98e+03    \n",
      "       1              2         9.0270e+02      1.51e+03       1.00e+00       8.02e+02    \n",
      "       2              3         1.8742e+02      7.15e+02       2.00e+00       3.94e+01    \n",
      "       3              4         9.3458e+01      9.40e+01       4.00e+00       2.87e+01    \n",
      "       4              5         9.3222e+01      2.36e-01       4.00e+00       3.64e+01    \n",
      "       5              6         7.0322e+01      2.29e+01       1.00e+00       2.16e+01    \n",
      "       6              7         6.6665e+01      3.66e+00       1.00e+00       1.44e+01    \n",
      "       7              8         6.5565e+01      1.10e+00       2.50e-01       1.17e+01    \n",
      "       8              9         6.5431e+01      1.34e-01       6.25e-02       1.09e+01    \n",
      "       9             10         6.5408e+01      2.28e-02       1.56e-02       1.08e+01    \n",
      "      10             11         6.5403e+01      4.96e-03       3.91e-03       1.08e+01    \n",
      "      11             12         6.5402e+01      1.19e-03       9.77e-04       1.08e+01    \n",
      "      12             13         6.5402e+01      2.95e-04       2.44e-04       1.08e+01    \n",
      "      13             14         6.5401e+01      7.35e-05       6.10e-05       1.08e+01    \n",
      "      14             15         6.5401e+01      1.84e-05       1.53e-05       1.08e+01    \n",
      "      15             16         6.5401e+01      4.59e-06       3.81e-06       1.08e+01    \n",
      "      16             17         6.5401e+01      1.15e-06       9.54e-07       1.08e+01    \n",
      "      17             18         6.5401e+01      2.87e-07       2.38e-07       1.08e+01    \n",
      "      18             19         6.5401e+01      7.17e-08       5.96e-08       1.08e+01    \n",
      "`xtol` termination condition is satisfied.\n",
      "Function evaluations 19, initial cost 2.4122e+03, final cost 6.5401e+01, first-order optimality 1.08e+01.\n",
      "CKLI optimality:  10.7666\n",
      "PICKLE: [63.05894876] s\n",
      "PICKLE\trelative L2 error: [0.13148297]\n",
      "PICKLE\tabsolute infinity error: [4.45536389]\n"
     ]
    }
   ],
   "source": [
    "# PICKLE estimate\n",
    "ssv = None if Neumann_sd == 0 else np.delete(np.arange(Nc), np.unique(geom.cells.to_hf[2*geom.faces.num_interior:][bc.kind == 'N']))\n",
    "Lreg = mapest.compute_Lreg(geom)\n",
    "\n",
    "if run_PICKLE:\n",
    "    for t in range(num_trials):\n",
    "        res = ckliest.LeastSqRes(NYxi, Ym[t], PsiY[t], Nuxi, um[t], Psiu[t], prob, ugamma_ckli, Ygamma_ckli, res_fac, Lreg, iuobs, uobs, iYobs[t], Yobs[t], beta_ckli, ssv=ssv)\n",
    "\n",
    "        ts = perf_counter()\n",
    "        sol = spo.least_squares(res.val, np.zeros(Nuxi + NYxi), jac=res.jac, method=lsq_method, verbose=2)\n",
    "        ckli_status = sol.status\n",
    "        timings[t, 3] = perf_counter() - ts\n",
    "        nfevs[t, 0] = sol.nfev\n",
    "        print(f'CKLI optimality: {sol.optimality : g}')\n",
    "\n",
    "        uxi[t] = sol.x[:Nuxi]\n",
    "        Yxi[t] = sol.x[Nuxi:]\n",
    "        uest[t] = um[t] + Psiu[t] @ uxi[t]\n",
    "        Yest[t] = Ym[t] + PsiY[t] @ Yxi[t]\n",
    "\n",
    "    rel_errors[:, 1] = np.array([rl2e(Yest[t], Yref) for t in range(num_trials)])\n",
    "    abs_errors[:, 1] = np.array([infe(Yest[t], Yref) for t in range(num_trials)])\n",
    "\n",
    "    print(f\"PICKLE: {timings[:, 3]} s\")\n",
    "    print(f\"PICKLE\\trelative L2 error: {rel_errors[:, 1]}\")\n",
    "    print(f\"PICKLE\\tabsolute infinity error: {abs_errors[:, 1]}\")"
   ]
  },
  {
   "cell_type": "code",
   "execution_count": 16,
   "metadata": {
    "tags": []
   },
   "outputs": [
    {
     "name": "stdout",
     "output_type": "stream",
     "text": [
      "adj size = (323, 1475), nnz = 476425\n",
      "   Iteration     Total nfev        Cost      Cost reduction    Step norm     Optimality   \n",
      "       0              1         7.5711e+02                                    5.84e+01    \n",
      "adj size = (323, 1475), nnz = 476425\n",
      "       1              2         6.4755e+02      1.10e+02       1.00e+00       4.94e+01    \n",
      "adj size = (323, 1475), nnz = 476425\n",
      "       2              3         4.6739e+02      1.80e+02       2.00e+00       2.92e+01    \n",
      "adj size = (323, 1475), nnz = 476425\n",
      "       3              4         2.6106e+02      2.06e+02       4.00e+00       7.45e+00    \n",
      "adj size = (323, 1475), nnz = 476425\n",
      "       4              5         1.0646e+02      1.55e+02       8.00e+00       2.52e+00    \n",
      "adj size = (323, 1475), nnz = 476425\n",
      "       5              6         1.5315e+01      9.11e+01       1.60e+01       3.62e+00    \n",
      "adj size = (323, 1475), nnz = 476425\n",
      "       6              7         6.3548e+00      8.96e+00       3.20e+01       2.49e+00    \n",
      "adj size = (323, 1475), nnz = 476425\n",
      "       7              8         1.7103e+00      4.64e+00       2.63e+01       1.53e+00    \n",
      "adj size = (323, 1475), nnz = 476425\n",
      "       8             10         1.6378e-02      1.69e+00       4.76e+00       1.10e-01    \n",
      "adj size = (323, 1475), nnz = 476425\n",
      "       9             11         6.9008e-03      9.48e-03       9.53e+00       1.13e-01    \n",
      "adj size = (323, 1475), nnz = 476425\n",
      "      10             13         6.9592e-04      6.20e-03       2.38e+00       2.19e-02    \n",
      "adj size = (323, 1475), nnz = 476425\n",
      "      11             14         6.6218e-04      3.37e-05       4.76e+00       1.57e-02    \n",
      "adj size = (323, 1475), nnz = 476425\n",
      "      12             15         4.4566e-04      2.17e-04       1.19e+00       5.28e-03    \n",
      "adj size = (323, 1475), nnz = 476425\n",
      "      13             17         4.3201e-04      1.37e-05       5.96e-01       1.81e-03    \n",
      "adj size = (323, 1475), nnz = 476425\n",
      "      14             19         4.2869e-04      3.32e-06       2.98e-01       5.21e-04    \n",
      "adj size = (323, 1475), nnz = 476425\n",
      "      15             20         4.2534e-04      3.35e-06       5.96e-01       1.95e-03    \n",
      "adj size = (323, 1475), nnz = 476425\n",
      "      16             22         4.2226e-04      3.08e-06       2.98e-01       5.23e-04    \n",
      "adj size = (323, 1475), nnz = 476425\n",
      "      17             23         4.1954e-04      2.72e-06       5.96e-01       1.74e-03    \n",
      "adj size = (323, 1475), nnz = 476425\n",
      "      18             24         4.1617e-04      3.38e-06       5.96e-01       1.45e-03    \n",
      "adj size = (323, 1475), nnz = 476425\n",
      "      19             26         4.1392e-04      2.25e-06       2.98e-01       3.19e-04    \n",
      "adj size = (323, 1475), nnz = 476425\n",
      "      20             27         4.1189e-04      2.02e-06       5.96e-01       9.53e-04    \n",
      "adj size = (323, 1475), nnz = 476425\n",
      "      21             29         4.1012e-04      1.77e-06       2.98e-01       2.28e-04    \n",
      "adj size = (323, 1475), nnz = 476425\n",
      "      22             30         4.0857e-04      1.55e-06       5.96e-01       9.48e-04    \n",
      "adj size = (323, 1475), nnz = 476425\n",
      "      23             31         4.0678e-04      1.79e-06       5.96e-01       9.59e-04    \n",
      "adj size = (323, 1475), nnz = 476425\n",
      "      24             33         4.0542e-04      1.36e-06       2.98e-01       2.25e-04    \n",
      "adj size = (323, 1475), nnz = 476425\n",
      "      25             34         4.0461e-04      8.11e-07       5.96e-01       9.78e-04    \n",
      "adj size = (323, 1475), nnz = 476425\n",
      "      26             35         4.0347e-04      1.14e-06       5.96e-01       9.77e-04    \n",
      "adj size = (323, 1475), nnz = 476425\n",
      "      27             36         4.0255e-04      9.23e-07       5.96e-01       9.56e-04    \n",
      "adj size = (323, 1475), nnz = 476425\n",
      "      28             37         4.0182e-04      7.27e-07       5.96e-01       9.06e-04    \n",
      "adj size = (323, 1475), nnz = 476425\n",
      "      29             38         4.0127e-04      5.48e-07       5.96e-01       8.11e-04    \n",
      "adj size = (323, 1475), nnz = 476425\n",
      "      30             39         4.0089e-04      3.81e-07       5.96e-01       6.36e-04    \n",
      "adj size = (323, 1475), nnz = 476425\n",
      "      31             40         4.0074e-04      1.50e-07       5.96e-01       5.14e-04    \n",
      "adj size = (323, 1475), nnz = 476425\n",
      "      32             41         4.0046e-04      2.82e-07       2.67e-01       2.02e-04    \n",
      "adj size = (323, 1475), nnz = 476425\n",
      "      33             42         4.0038e-04      8.13e-08       9.11e-02       6.72e-05    \n",
      "adj size = (323, 1475), nnz = 476425\n",
      "      34             43         4.0037e-04      8.53e-09       4.51e-02       2.04e-05    \n",
      "adj size = (323, 1475), nnz = 476425\n",
      "      35             44         4.0037e-04      9.67e-10       2.35e-02       6.03e-06    \n",
      "adj size = (323, 1475), nnz = 476425\n",
      "      36             45         4.0037e-04      1.39e-10       1.24e-02       1.77e-06    \n",
      "adj size = (323, 1475), nnz = 476425\n",
      "      37             46         4.0037e-04      2.77e-11       6.73e-03       5.10e-07    \n",
      "adj size = (323, 1475), nnz = 476425\n",
      "      38             47         4.0037e-04      6.89e-12       3.58e-03       1.48e-07    \n",
      "adj size = (323, 1475), nnz = 476425\n",
      "      39             48         4.0037e-04      1.94e-12       2.05e-03       4.18e-08    \n",
      "`ftol` termination condition is satisfied.\n",
      "Function evaluations 48, initial cost 7.5711e+02, final cost 4.0037e-04, first-order optimality 4.18e-08.\n",
      "MAP status: 2, message: `ftol` termination condition is satisfied.\n",
      "MAP: [60.73602949] s\n",
      "MAP\trelative L2 error: [0.07716211]\n",
      "MAP\tabsolute infinity error: [4.3161182]\n",
      "MAP solve time: [0.13891137]\n",
      "MAP objective time: [0.0118468]\n",
      "MAP Jacobian time: [11.22282612]\n"
     ]
    }
   ],
   "source": [
    "Lreg = mapest.compute_Lreg(geom)\n",
    "for t in range(num_trials):\n",
    "    # MAP H1 estimate\n",
    "    loss = mapest.LossVec(Nc, Nc, iuobs, uobs, iYobs[t], Yobs[t], gamma_map, Lreg) # H1 regularization\n",
    "    if amps:\n",
    "        prob.setup_amps(iuobs)\n",
    "        dasa = DASAExpLMAMPS(prob.partial_solve, loss.val, loss.grad_u, loss.grad_Y, prob.residual_sens_u, prob.residual_sens_Y, prob.u_sens_p, (Nuobs + NYobs + Ninf, Nc), Nuobs)\n",
    "    else:\n",
    "        dasa = DASAExpLM(prob.solve, loss.val, loss.grad_u, loss.grad_Y, prob.residual_sens_u, prob.residual_sens_Y, (Nuobs + NYobs + Ninf, Nc), Nuobs)\n",
    "    ts = perf_counter()\n",
    "    sol = spo.least_squares(dasa.obj, np.zeros(Nc), jac=dasa.grad, method=lsq_method, verbose=2)\n",
    "    timings[t, 4] = perf_counter() - ts\n",
    "    Yest_MAPH1[t] = sol.x\n",
    "    nfevs[t, 1] = sol.nfev\n",
    "\n",
    "    MAP_status = sol.status\n",
    "    print(f'MAP status: {MAP_status}, message: {sol.message}')\n",
    "    \n",
    "    solve_time[t] = dasa.solve_time\n",
    "    obj_time[t] = dasa.obj_time\n",
    "    jac_time[t] = dasa.jac_time\n",
    "\n",
    "rel_errors[:, 2] = np.array([rl2e(Yest_MAPH1[t], Yref) for t in range(num_trials)])\n",
    "abs_errors[:, 2] = np.array([infe(Yest_MAPH1[t], Yref) for t in range(num_trials)])\n",
    "\n",
    "print(f\"MAP: {timings[:, 4]} s\")\n",
    "print(f\"MAP\\trelative L2 error: {rel_errors[:, 2]}\")\n",
    "print(f\"MAP\\tabsolute infinity error: {abs_errors[:, 2]}\")\n",
    "print(f\"MAP solve time: {solve_time}\")\n",
    "print(f\"MAP objective time: {obj_time}\")\n",
    "print(f\"MAP Jacobian time: {jac_time}\")"
   ]
  },
  {
   "cell_type": "code",
   "execution_count": 17,
   "metadata": {},
   "outputs": [],
   "source": [
    "np.savetxt(results_path + f'iYobs/iYobs_{exp}.txt', iYobs.astype(int), fmt='%i')\n",
    "np.savetxt(results_path + f'timings/timings_{exp}.txt', timings)\n",
    "np.savetxt(results_path + f'nfevs/nfevs_{exp}.txt', nfevs.astype(int), fmt='%i')\n",
    "np.savetxt(results_path + f'rel_errors/rel_errors_{exp}.txt', rel_errors)\n",
    "np.savetxt(results_path + f'abs_errors/abs_errors_{exp}.txt', abs_errors)\n",
    "np.savetxt(results_path + f'YGPR/YGPR_{exp}.txt', Yref)\n",
    "np.savetxt(results_path + f'YPICKLE/YPICKLE_{exp}.txt', Yest)\n",
    "np.savetxt(results_path + f'YMAP/YMAP_{exp}.txt', Yest_MAPH1)"
   ]
  },
  {
   "cell_type": "code",
   "execution_count": 20,
   "metadata": {},
   "outputs": [
    {
     "data": {
      "text/plain": [
       "\"../figures/NY=100_Nu=323_NYlearn=100_gamma=1e-06_lsq_method='trf'_h1reg_amps=True_Yref=RF1\""
      ]
     },
     "execution_count": 20,
     "metadata": {},
     "output_type": "execute_result"
    }
   ],
   "source": [
    "figures_path + exp"
   ]
  },
  {
   "cell_type": "code",
   "execution_count": 21,
   "metadata": {},
   "outputs": [
    {
     "data": {
      "image/png": "[encoded data removed]",
      "text/plain": [
       "<Figure size 288x288 with 1 Axes>"
      ]
     },
     "metadata": {
      "needs_background": "light"
     },
     "output_type": "display_data"
    }
   ],
   "source": [
    "if run_PICKLE:\n",
    "    fig, ax = plt.subplots(figsize=(4, 4))\n",
    "\n",
    "    plot_patch(patches, Yest[0, :] + Yfac, fig, ax, None, 'Yest (PICKLE)', 0, 12)\n",
    "\n",
    "    fig.tight_layout()\n",
    "    fig.savefig(figures_path +\n",
    "                f'YPICKLE/YPICKLE_{exp}.pdf', dpi=300, bbox_inches='tight')\n"
   ]
  },
  {
   "cell_type": "code",
   "execution_count": 22,
   "metadata": {},
   "outputs": [
    {
     "data": {
      "image/png": "[encoded data removed]",
      "text/plain": [
       "<Figure size 288x288 with 1 Axes>"
      ]
     },
     "metadata": {
      "needs_background": "light"
     },
     "output_type": "display_data"
    }
   ],
   "source": [
    "if run_PICKLE:\n",
    "    fig, ax = plt.subplots(figsize=(4, 4))\n",
    "\n",
    "    plot_patch(patches, np.abs(Yest[0, :] - Yref), fig, ax, None, 'Ydiff (PICKLE)', 0, 7)\n",
    "\n",
    "    fig.tight_layout()\n",
    "    fig.savefig(\n",
    "        figures_path + f'Ydiff_PICKLE/Ydiff_PICKLE_{exp}.pdf', dpi=300, bbox_inches='tight')\n"
   ]
  },
  {
   "cell_type": "code",
   "execution_count": 20,
   "metadata": {},
   "outputs": [],
   "source": [
    "t=0"
   ]
  },
  {
   "cell_type": "code",
   "execution_count": 24,
   "metadata": {},
   "outputs": [
    {
     "data": {
      "image/png": "[encoded data removed]",
      "text/plain": [
       "<Figure size 288x288 with 1 Axes>"
      ]
     },
     "metadata": {
      "needs_background": "light"
     },
     "output_type": "display_data"
    }
   ],
   "source": [
    "fig, ax = plt.subplots(figsize=(4, 4))\n",
    "\n",
    "plot_patch(patches, Yest_MAPH1[t, :] + Yfac, fig, ax, None, 'Yest (MAP)', 0, 12)\n",
    "\n",
    "fig.tight_layout()\n",
    "fig.savefig(figures_path +\n",
    "            f'YMAP/YMAP_{exp}.pdf', dpi=300, bbox_inches='tight')\n"
   ]
  },
  {
   "cell_type": "code",
   "execution_count": 25,
   "metadata": {},
   "outputs": [
    {
     "data": {
      "image/png": "[encoded data removed]",
      "text/plain": [
       "<Figure size 288x288 with 1 Axes>"
      ]
     },
     "metadata": {
      "needs_background": "light"
     },
     "output_type": "display_data"
    }
   ],
   "source": [
    "fig, ax = plt.subplots(figsize=(4, 4))\n",
    "\n",
    "plot_patch(patches, np.abs(Yest_MAPH1[t, :] - Yref), fig, ax, None, 'Ydiff (MAP)', 0, 7)\n",
    "\n",
    "fig.tight_layout()\n",
    "fig.savefig(figures_path +\n",
    "            f'Ydiff_MAP/Ydiff_MAP_{exp}.pdf', dpi=300, bbox_inches='tight')\n"
   ]
  },
  {
   "cell_type": "code",
   "execution_count": null,
   "metadata": {},
   "outputs": [],
   "source": []
  }
 ],
 "metadata": {
  "kernelspec": {
   "display_name": "Python 3.8.2 64-bit",
   "language": "python",
   "name": "python3"
  },
  "language_info": {
   "codemirror_mode": {
    "name": "ipython",
    "version": 3
   },
   "file_extension": ".py",
   "mimetype": "text/x-python",
   "name": "python",
   "nbconvert_exporter": "python",
   "pygments_lexer": "ipython3",
   "version": "3.8.2 (default, Aug 25 2020, 09:23:57) \n[Clang 12.0.0 (clang-1200.0.32.2)]"
  },
  "metadata": {
   "interpreter": {
    "hash": "31f2aee4e71d21fbe5cf8b01ff0e069b9275f58929596ceb00d14d90e3e16cd6"
   }
  },
  "vscode": {
   "interpreter": {
    "hash": "31f2aee4e71d21fbe5cf8b01ff0e069b9275f58929596ceb00d14d90e3e16cd6"
   }
  }
 },
 "nbformat": 4,
 "nbformat_minor": 4
}
